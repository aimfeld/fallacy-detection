{
 "cells": [
  {
   "metadata": {},
   "cell_type": "markdown",
   "source": "# Human Benchmark for Fallacy Identification",
   "id": "1c8e41500d2c0c"
  },
  {
   "cell_type": "code",
   "id": "initial_id",
   "metadata": {
    "collapsed": true,
    "ExecuteTime": {
     "end_time": "2024-11-07T14:52:49.011890Z",
     "start_time": "2024-11-07T14:52:48.992105Z"
    }
   },
   "source": [
    "%load_ext autoreload\n",
    "%autoreload 2\n",
    "\n",
    "from src.experiment import get_fallacy_df"
   ],
   "outputs": [
    {
     "name": "stdout",
     "output_type": "stream",
     "text": [
      "The autoreload extension is already loaded. To reload it, use:\n",
      "  %reload_ext autoreload\n"
     ]
    }
   ],
   "execution_count": 12
  },
  {
   "metadata": {},
   "cell_type": "markdown",
   "source": "## Create Dataset",
   "id": "e862cfdb0e63d398"
  },
  {
   "metadata": {
    "ExecuteTime": {
     "end_time": "2024-11-07T14:52:49.076755Z",
     "start_time": "2024-11-07T14:52:49.020118Z"
    }
   },
   "cell_type": "code",
   "source": [
    "filename = 'data/fallacies_e11_human_empty.csv'\n",
    "df_fallacies = get_fallacy_df(filename)\n"
   ],
   "id": "bd3d2ea888a1da2c",
   "outputs": [
    {
     "name": "stdout",
     "output_type": "stream",
     "text": [
      "[2024-11-07 15:52:49] Created new fallacy identification dataframe.\n"
     ]
    }
   ],
   "execution_count": 13
  },
  {
   "metadata": {
    "ExecuteTime": {
     "end_time": "2024-11-07T14:52:49.104743Z",
     "start_time": "2024-11-07T14:52:49.084562Z"
    }
   },
   "cell_type": "code",
   "source": [
    "# Randomize order\n",
    "df_fallacies = df_fallacies.sample(frac=1, random_state=42)"
   ],
   "id": "f3fd9e0ed3ea6a7e",
   "outputs": [],
   "execution_count": 14
  },
  {
   "metadata": {
    "ExecuteTime": {
     "end_time": "2024-11-07T14:52:49.145472Z",
     "start_time": "2024-11-07T14:52:49.127689Z"
    }
   },
   "cell_type": "code",
   "source": [
    "# Number the reasoning steps within fallacy type and label, so we can choose how many sets to \n",
    "# respond to and still get a balanced dataset with all fallacy types and 50% correct and incorrect reasoning steps.\n",
    "df_fallacies['set_number'] = df_fallacies.groupby(['fallacy', 'label'], observed=True).cumcount() + 1"
   ],
   "id": "ee05cb55fd9546ee",
   "outputs": [],
   "execution_count": 15
  },
  {
   "metadata": {
    "ExecuteTime": {
     "end_time": "2024-11-07T14:52:49.198849Z",
     "start_time": "2024-11-07T14:52:49.175982Z"
    }
   },
   "cell_type": "code",
   "source": [
    "# Verify that each set contains the same number of 1 and 0 labels\n",
    "df_fallacies.groupby(['set_number'], observed=True)['label'].value_counts()"
   ],
   "id": "c07842cd4108c994",
   "outputs": [
    {
     "data": {
      "text/plain": [
       "set_number  label\n",
       "1           1        232\n",
       "            0        232\n",
       "2           1        232\n",
       "            0        232\n",
       "3           1        232\n",
       "            0        232\n",
       "4           1        232\n",
       "            0        232\n",
       "5           1        232\n",
       "            0        232\n",
       "6           1        232\n",
       "            0        232\n",
       "7           1        232\n",
       "            0        232\n",
       "8           1        232\n",
       "            0        232\n",
       "9           1        232\n",
       "            0        232\n",
       "10          1        232\n",
       "            0        232\n",
       "Name: count, dtype: int64"
      ]
     },
     "execution_count": 16,
     "metadata": {},
     "output_type": "execute_result"
    }
   ],
   "execution_count": 16
  },
  {
   "metadata": {
    "ExecuteTime": {
     "end_time": "2024-11-07T14:52:49.261546Z",
     "start_time": "2024-11-07T14:52:49.241709Z"
    }
   },
   "cell_type": "code",
   "source": [
    "# Verify that each set contains all fallacy types\n",
    "df_fallacies.groupby(['set_number'], observed=True)['fallacy'].nunique()"
   ],
   "id": "a73440fad6a8b01e",
   "outputs": [
    {
     "data": {
      "text/plain": [
       "set_number\n",
       "1     232\n",
       "2     232\n",
       "3     232\n",
       "4     232\n",
       "5     232\n",
       "6     232\n",
       "7     232\n",
       "8     232\n",
       "9     232\n",
       "10    232\n",
       "Name: fallacy, dtype: int64"
      ]
     },
     "execution_count": 17,
     "metadata": {},
     "output_type": "execute_result"
    }
   ],
   "execution_count": 17
  },
  {
   "metadata": {
    "ExecuteTime": {
     "end_time": "2024-11-07T14:52:49.324335Z",
     "start_time": "2024-11-07T14:52:49.304788Z"
    }
   },
   "cell_type": "code",
   "source": [
    "# Entities are diverse within each set due to random order\n",
    "df_fallacies.groupby(['set_number'], observed=True)['entity'].nunique()"
   ],
   "id": "dbf7f08c49f24ff9",
   "outputs": [
    {
     "data": {
      "text/plain": [
       "set_number\n",
       "1     436\n",
       "2     450\n",
       "3     446\n",
       "4     433\n",
       "5     440\n",
       "6     435\n",
       "7     442\n",
       "8     440\n",
       "9     439\n",
       "10    442\n",
       "Name: entity, dtype: int64"
      ]
     },
     "execution_count": 18,
     "metadata": {},
     "output_type": "execute_result"
    }
   ],
   "execution_count": 18
  },
  {
   "metadata": {
    "ExecuteTime": {
     "end_time": "2024-11-07T14:52:49.382798Z",
     "start_time": "2024-11-07T14:52:49.364509Z"
    }
   },
   "cell_type": "code",
   "source": [
    "# Number the reasoning steps within subcategory and label, so each subcategory contains the same number of correct and incorrect samples: 5/5 for q90 and 10/10 for q180.\n",
    "df_fallacies['subcategory_set'] = df_fallacies.groupby(['subcategory', 'label'], observed=True).cumcount() + 1\n",
    "df_fallacies[['q90', 'q180']] = 0\n",
    "df_fallacies.loc[df_fallacies['subcategory_set'] <= 5, 'q90'] = 1 # Short questionnaire: 90 questions\n",
    "df_fallacies.loc[df_fallacies['subcategory_set'] <= 10, 'q180'] = 1 # Long questionnaire: 180 questions"
   ],
   "id": "fb44af028c8575c3",
   "outputs": [],
   "execution_count": 19
  },
  {
   "metadata": {
    "ExecuteTime": {
     "end_time": "2024-11-07T14:52:49.427741Z",
     "start_time": "2024-11-07T14:52:49.407800Z"
    }
   },
   "cell_type": "code",
   "source": [
    "df_q90 = df_fallacies[df_fallacies['q90'] == 1]\n",
    "df_q180 = df_fallacies[df_fallacies['q180'] == 1]"
   ],
   "id": "3d9a9579dc83ff5a",
   "outputs": [],
   "execution_count": 20
  },
  {
   "metadata": {
    "ExecuteTime": {
     "end_time": "2024-11-07T14:52:49.485690Z",
     "start_time": "2024-11-07T14:52:49.462542Z"
    }
   },
   "cell_type": "code",
   "source": "df_q180.groupby('subcategory', observed=True)['label'].value_counts()",
   "id": "aa5c10bb10cba179",
   "outputs": [
    {
     "data": {
      "text/plain": [
       "subcategory                label\n",
       "ambiguity                  1        10\n",
       "                           0        10\n",
       "inappropriate presumption  1        10\n",
       "                           0        10\n",
       "inconsistency              1        10\n",
       "                           0        10\n",
       "insufficiency              1        10\n",
       "                           0        10\n",
       "irrelevance                1        10\n",
       "                           0        10\n",
       "probabilistic              1        10\n",
       "                           0        10\n",
       "propositional              1        10\n",
       "                           0        10\n",
       "quantificational           1        10\n",
       "                           0        10\n",
       "syllogistic                1        10\n",
       "                           0        10\n",
       "Name: count, dtype: int64"
      ]
     },
     "execution_count": 21,
     "metadata": {},
     "output_type": "execute_result"
    }
   ],
   "execution_count": 21
  },
  {
   "metadata": {
    "ExecuteTime": {
     "end_time": "2024-11-07T14:52:49.544840Z",
     "start_time": "2024-11-07T14:52:49.526062Z"
    }
   },
   "cell_type": "code",
   "source": [
    "# Number of unique fallacies in each subcategory\n",
    "df_q180.groupby('subcategory', observed=True)['fallacy'].nunique()"
   ],
   "id": "27aa53bf8d96d06a",
   "outputs": [
    {
     "data": {
      "text/plain": [
       "subcategory\n",
       "ambiguity                    12\n",
       "inappropriate presumption    17\n",
       "inconsistency                 3\n",
       "insufficiency                16\n",
       "irrelevance                  19\n",
       "probabilistic                 4\n",
       "propositional                 6\n",
       "quantificational              6\n",
       "syllogistic                   7\n",
       "Name: fallacy, dtype: int64"
      ]
     },
     "execution_count": 22,
     "metadata": {},
     "output_type": "execute_result"
    }
   ],
   "execution_count": 22
  },
  {
   "metadata": {
    "ExecuteTime": {
     "end_time": "2024-11-07T14:52:49.602839Z",
     "start_time": "2024-11-07T14:52:49.584705Z"
    }
   },
   "cell_type": "code",
   "source": [
    "# Remove unnecessary columns and labels for blind test\n",
    "df_fallacies.drop(columns=['entity', 'fallacy', 'label', 'subcategory_set'], inplace=True)"
   ],
   "id": "8dfa08947f195d6e",
   "outputs": [],
   "execution_count": 23
  },
  {
   "metadata": {
    "ExecuteTime": {
     "end_time": "2024-11-07T14:52:49.663786Z",
     "start_time": "2024-11-07T14:52:49.626679Z"
    }
   },
   "cell_type": "code",
   "source": [
    "# Keep index so we can join back to the original dataset\n",
    "df_fallacies.to_csv(filename, index=True, index_label='index')"
   ],
   "id": "7fd2e7a2b01de7db",
   "outputs": [],
   "execution_count": 24
  }
 ],
 "metadata": {
  "kernelspec": {
   "display_name": "Python 3",
   "language": "python",
   "name": "python3"
  },
  "language_info": {
   "codemirror_mode": {
    "name": "ipython",
    "version": 2
   },
   "file_extension": ".py",
   "mimetype": "text/x-python",
   "name": "python",
   "nbconvert_exporter": "python",
   "pygments_lexer": "ipython2",
   "version": "2.7.6"
  }
 },
 "nbformat": 4,
 "nbformat_minor": 5
}
