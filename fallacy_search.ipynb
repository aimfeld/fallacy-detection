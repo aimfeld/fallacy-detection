{
 "cells": [
  {
   "metadata": {},
   "cell_type": "markdown",
   "source": "# Fallacy Search Analysis",
   "id": "ad8039b3e62954ab"
  },
  {
   "metadata": {},
   "cell_type": "code",
   "outputs": [],
   "execution_count": null,
   "source": [
    "%load_ext autoreload\n",
    "%autoreload 2\n",
    "\n",
    "from src.mafalda import get_mafalda_df\n",
    "from src.constants import RESPONSE_ERROR\n",
    "from src.analysis import get_sanity_check, add_search_scores\n",
    "import seaborn as sns\n",
    "\n",
    "sns.set_theme()"
   ],
   "id": "bf5e9f6ad61348eb"
  },
  {
   "metadata": {},
   "cell_type": "markdown",
   "source": "## Experiment 3.1: Fallacy Search",
   "id": "5a81713385cee4ac"
  },
  {
   "metadata": {},
   "cell_type": "code",
   "outputs": [],
   "execution_count": null,
   "source": [
    "filename_e31 = 'data/mafalda_e31.csv'\n",
    "df_mafalda_e31 = get_mafalda_df(filename_e31)\n",
    "df_mafalda_e31.head()"
   ],
   "id": "62c8c9e9ae688408"
  },
  {
   "metadata": {},
   "cell_type": "markdown",
   "source": "### Scoring and Sanity Check",
   "id": "86fb92f5aa5743b6"
  },
  {
   "metadata": {
    "ExecuteTime": {
     "end_time": "2024-11-14T07:45:33.285993Z",
     "start_time": "2024-11-14T07:45:33.215759Z"
    }
   },
   "cell_type": "code",
   "outputs": [],
   "execution_count": 99,
   "source": "add_search_scores(df_mafalda_e31)",
   "id": "6cfc4e8ae2ced447"
  },
  {
   "metadata": {
    "ExecuteTime": {
     "end_time": "2024-11-14T07:45:33.360848Z",
     "start_time": "2024-11-14T07:45:33.338105Z"
    }
   },
   "cell_type": "code",
   "outputs": [
    {
     "name": "stdout",
     "output_type": "stream",
     "text": [
      "<class 'pandas.core.frame.DataFrame'>\n",
      "RangeIndex: 4640 entries, 0 to 4639\n",
      "Data columns (total 15 columns):\n",
      " #   Column                     Non-Null Count  Dtype   \n",
      "---  ------                     --------------  -----   \n",
      " 0   step                       4640 non-null   object  \n",
      " 1   entity                     4640 non-null   object  \n",
      " 2   fallacy                    4640 non-null   category\n",
      " 3   label                      4640 non-null   category\n",
      " 4   category                   4640 non-null   category\n",
      " 5   subcategory                4640 non-null   category\n",
      " 6   gpt_4o_mini_response       4640 non-null   object  \n",
      " 7   claude_3_haiku_response    4640 non-null   object  \n",
      " 8   gemini_1_5_flash_response  4640 non-null   object  \n",
      " 9   gpt_4o_mini_pred           4640 non-null   category\n",
      " 10  gpt_4o_mini_score          4640 non-null   UInt8   \n",
      " 11  claude_3_haiku_pred        4640 non-null   category\n",
      " 12  claude_3_haiku_score       4640 non-null   UInt8   \n",
      " 13  gemini_1_5_flash_pred      4640 non-null   category\n",
      " 14  gemini_1_5_flash_score     4640 non-null   UInt8   \n",
      "dtypes: UInt8(3), category(7), object(5)\n",
      "memory usage: 255.7+ KB\n"
     ]
    }
   ],
   "execution_count": 100,
   "source": [
    "# Check completeness of responses, predictions and scores\n",
    "df_mafalda_e31.replace(['', RESPONSE_ERROR], None).info()"
   ],
   "id": "328ec63f52a71cc5"
  },
  {
   "metadata": {
    "ExecuteTime": {
     "end_time": "2024-11-14T07:45:33.438779Z",
     "start_time": "2024-11-14T07:45:33.411321Z"
    }
   },
   "cell_type": "code",
   "outputs": [
    {
     "data": {
      "text/plain": [
       "                  response_length_mean  missing_responses  invalid_predictions\n",
       "gpt_4o_mini                        3.4                  0                    0\n",
       "claude_3_haiku                     3.3                  0                    0\n",
       "gemini_1_5_flash                   2.4                  0                    0"
      ],
      "text/html": [
       "<div>\n",
       "<style scoped>\n",
       "    .dataframe tbody tr th:only-of-type {\n",
       "        vertical-align: middle;\n",
       "    }\n",
       "\n",
       "    .dataframe tbody tr th {\n",
       "        vertical-align: top;\n",
       "    }\n",
       "\n",
       "    .dataframe thead th {\n",
       "        text-align: right;\n",
       "    }\n",
       "</style>\n",
       "<table border=\"1\" class=\"dataframe\">\n",
       "  <thead>\n",
       "    <tr style=\"text-align: right;\">\n",
       "      <th></th>\n",
       "      <th>response_length_mean</th>\n",
       "      <th>missing_responses</th>\n",
       "      <th>invalid_predictions</th>\n",
       "    </tr>\n",
       "  </thead>\n",
       "  <tbody>\n",
       "    <tr>\n",
       "      <th>gpt_4o_mini</th>\n",
       "      <td>3.4</td>\n",
       "      <td>0</td>\n",
       "      <td>0</td>\n",
       "    </tr>\n",
       "    <tr>\n",
       "      <th>claude_3_haiku</th>\n",
       "      <td>3.3</td>\n",
       "      <td>0</td>\n",
       "      <td>0</td>\n",
       "    </tr>\n",
       "    <tr>\n",
       "      <th>gemini_1_5_flash</th>\n",
       "      <td>2.4</td>\n",
       "      <td>0</td>\n",
       "      <td>0</td>\n",
       "    </tr>\n",
       "  </tbody>\n",
       "</table>\n",
       "</div>"
      ]
     },
     "execution_count": 101,
     "metadata": {},
     "output_type": "execute_result"
    }
   ],
   "execution_count": 101,
   "source": "get_sanity_check(df_mafalda_e31)",
   "id": "4ec0d7ff50a2e6bd"
  }
 ],
 "metadata": {
  "kernelspec": {
   "display_name": "Python 3",
   "language": "python",
   "name": "python3"
  },
  "language_info": {
   "codemirror_mode": {
    "name": "ipython",
    "version": 2
   },
   "file_extension": ".py",
   "mimetype": "text/x-python",
   "name": "python",
   "nbconvert_exporter": "python",
   "pygments_lexer": "ipython2",
   "version": "2.7.6"
  }
 },
 "nbformat": 4,
 "nbformat_minor": 5
}
