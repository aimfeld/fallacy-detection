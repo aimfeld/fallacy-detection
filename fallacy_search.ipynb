{
 "cells": [
  {
   "metadata": {},
   "cell_type": "markdown",
   "source": "# Fallacy Search Analysis",
   "id": "ad8039b3e62954ab"
  },
  {
   "metadata": {
    "ExecuteTime": {
     "end_time": "2024-11-15T12:30:56.077579Z",
     "start_time": "2024-11-15T12:30:56.062222Z"
    }
   },
   "cell_type": "code",
   "source": [
    "%load_ext autoreload\n",
    "%autoreload 2\n",
    "\n",
    "from src.mafalda import get_mafalda_df, evaluate_responses, get_mean_metrics\n",
    "import seaborn as sns\n",
    "\n",
    "sns.set_theme()"
   ],
   "id": "bf5e9f6ad61348eb",
   "outputs": [
    {
     "name": "stdout",
     "output_type": "stream",
     "text": [
      "The autoreload extension is already loaded. To reload it, use:\n",
      "  %reload_ext autoreload\n"
     ]
    }
   ],
   "execution_count": 14
  },
  {
   "metadata": {},
   "cell_type": "markdown",
   "source": "## Experiment 3.1: Fallacy Search",
   "id": "5a81713385cee4ac"
  },
  {
   "metadata": {
    "ExecuteTime": {
     "end_time": "2024-11-15T11:50:35.759823Z",
     "start_time": "2024-11-15T11:50:35.729428Z"
    }
   },
   "cell_type": "code",
   "source": [
    "filename_e31 = 'data/mafalda_e31.csv'\n",
    "df_mafalda_e31 = get_mafalda_df(filename_e31)\n",
    "df_mafalda_e31.head()"
   ],
   "id": "62c8c9e9ae688408",
   "outputs": [
    {
     "name": "stdout",
     "output_type": "stream",
     "text": [
      "[2024-11-15 12:50:35] Loaded existing mafalda dataframe from data/mafalda_e31.csv.\n"
     ]
    },
    {
     "data": {
      "text/plain": [
       "                                                text  \\\n",
       "0  TITLE: Endless Ledge Skip Campaign for Alts PO...   \n",
       "1  Two of my best friends are really introverted,...   \n",
       "2  TITLE: There is a difference between a'smurf' ...   \n",
       "3  TITLE: Discussion Thread (Part 3): 2020 Presid...   \n",
       "4  America is the best place to live, because it'...   \n",
       "\n",
       "                                              labels  \\\n",
       "0                       [[155, 588, slippery slope]]   \n",
       "1                  [[84, 145, hasty generalization]]   \n",
       "2                        [[118, 265, false analogy]]   \n",
       "3  [[107, 261, guilt by association], [107, 338, ...   \n",
       "4                      [[0, 78, circular reasoning]]   \n",
       "\n",
       "                                            comments  \\\n",
       "0  ['Slippery slope: P1 = poster, A = why not jus...   \n",
       "1  [\"Based on two people only, you can't draw gen...   \n",
       "2  ['False Analogy: X: Having an alt , Y: smurfin...   \n",
       "3  ['Circular reasoning: X = The status quo in Am...   \n",
       "4  ['Circular reasoning: X=America is the best pl...   \n",
       "\n",
       "                               sentences_with_labels  \\\n",
       "0  {'TITLE: Endless Ledge Skip Campaign for Alts ...   \n",
       "1  {'Two of my best friends are really introverte...   \n",
       "2  {'TITLE: There is a difference between a'smurf...   \n",
       "3  {'TITLE: Discussion Thread (Part 3): 2020 Pres...   \n",
       "4  {'America is the best place to live, because i...   \n",
       "\n",
       "                                gpt_4o_mini_response  \n",
       "0  fallacies=[FallacyEntry(fallacy=<Fallacy.SLIPP...  \n",
       "1  fallacies=[FallacyEntry(fallacy=<Fallacy.HASTY...  \n",
       "2  fallacies=[FallacyEntry(fallacy=<Fallacy.EQUIV...  \n",
       "3  fallacies=[FallacyEntry(fallacy=<Fallacy.HASTY...  \n",
       "4  fallacies=[FallacyEntry(fallacy=<Fallacy.CIRCU...  "
      ],
      "text/html": [
       "<div>\n",
       "<style scoped>\n",
       "    .dataframe tbody tr th:only-of-type {\n",
       "        vertical-align: middle;\n",
       "    }\n",
       "\n",
       "    .dataframe tbody tr th {\n",
       "        vertical-align: top;\n",
       "    }\n",
       "\n",
       "    .dataframe thead th {\n",
       "        text-align: right;\n",
       "    }\n",
       "</style>\n",
       "<table border=\"1\" class=\"dataframe\">\n",
       "  <thead>\n",
       "    <tr style=\"text-align: right;\">\n",
       "      <th></th>\n",
       "      <th>text</th>\n",
       "      <th>labels</th>\n",
       "      <th>comments</th>\n",
       "      <th>sentences_with_labels</th>\n",
       "      <th>gpt_4o_mini_response</th>\n",
       "    </tr>\n",
       "  </thead>\n",
       "  <tbody>\n",
       "    <tr>\n",
       "      <th>0</th>\n",
       "      <td>TITLE: Endless Ledge Skip Campaign for Alts PO...</td>\n",
       "      <td>[[155, 588, slippery slope]]</td>\n",
       "      <td>['Slippery slope: P1 = poster, A = why not jus...</td>\n",
       "      <td>{'TITLE: Endless Ledge Skip Campaign for Alts ...</td>\n",
       "      <td>fallacies=[FallacyEntry(fallacy=&lt;Fallacy.SLIPP...</td>\n",
       "    </tr>\n",
       "    <tr>\n",
       "      <th>1</th>\n",
       "      <td>Two of my best friends are really introverted,...</td>\n",
       "      <td>[[84, 145, hasty generalization]]</td>\n",
       "      <td>[\"Based on two people only, you can't draw gen...</td>\n",
       "      <td>{'Two of my best friends are really introverte...</td>\n",
       "      <td>fallacies=[FallacyEntry(fallacy=&lt;Fallacy.HASTY...</td>\n",
       "    </tr>\n",
       "    <tr>\n",
       "      <th>2</th>\n",
       "      <td>TITLE: There is a difference between a'smurf' ...</td>\n",
       "      <td>[[118, 265, false analogy]]</td>\n",
       "      <td>['False Analogy: X: Having an alt , Y: smurfin...</td>\n",
       "      <td>{'TITLE: There is a difference between a'smurf...</td>\n",
       "      <td>fallacies=[FallacyEntry(fallacy=&lt;Fallacy.EQUIV...</td>\n",
       "    </tr>\n",
       "    <tr>\n",
       "      <th>3</th>\n",
       "      <td>TITLE: Discussion Thread (Part 3): 2020 Presid...</td>\n",
       "      <td>[[107, 261, guilt by association], [107, 338, ...</td>\n",
       "      <td>['Circular reasoning: X = The status quo in Am...</td>\n",
       "      <td>{'TITLE: Discussion Thread (Part 3): 2020 Pres...</td>\n",
       "      <td>fallacies=[FallacyEntry(fallacy=&lt;Fallacy.HASTY...</td>\n",
       "    </tr>\n",
       "    <tr>\n",
       "      <th>4</th>\n",
       "      <td>America is the best place to live, because it'...</td>\n",
       "      <td>[[0, 78, circular reasoning]]</td>\n",
       "      <td>['Circular reasoning: X=America is the best pl...</td>\n",
       "      <td>{'America is the best place to live, because i...</td>\n",
       "      <td>fallacies=[FallacyEntry(fallacy=&lt;Fallacy.CIRCU...</td>\n",
       "    </tr>\n",
       "  </tbody>\n",
       "</table>\n",
       "</div>"
      ]
     },
     "execution_count": 2,
     "metadata": {},
     "output_type": "execute_result"
    }
   ],
   "execution_count": 2
  },
  {
   "metadata": {},
   "cell_type": "markdown",
   "source": "### Scoring and Sanity Check",
   "id": "86fb92f5aa5743b6"
  },
  {
   "metadata": {
    "ExecuteTime": {
     "end_time": "2024-11-15T12:08:00.882182Z",
     "start_time": "2024-11-15T12:07:59.204488Z"
    }
   },
   "cell_type": "code",
   "source": "evaluate_responses(df_mafalda_e31)",
   "id": "6cfc4e8ae2ced447",
   "outputs": [
    {
     "name": "stdout",
     "output_type": "stream",
     "text": [
      "Failed to match span for fallacy Fallacy.HASTY_GENERALIZATION:\n",
      "span: If you sell big amounts at 6k, he tried to bring the price even lower and cause a total sell off.\n",
      "text: TITLE: Now We Know Who Sold the Bottom at $6k And Tried To Crash Bitcoin - Spoiler alert: it was Mt.Gox trustee POST: can anyone explain the part where it says he tried to crash the market at 6k?.... i dont get the reasoning behind this? POST: If you sell at high prices, that makes sense, doesn't it? If you sell at bottom, you're either panicking or trying to crash the price of the asset you're selling. So if he sold big amounts at 6k, he tried to bring the price even lower and cause a total sell off. That is my logic.\n",
      "\n",
      "Failed to match span for fallacy Fallacy.HASTY_GENERALIZATION:\n",
      "span: Well, democracy gave us Trump to the whole world. I'll let others judge what democracy is. Lets see what other system gave us. Communism gave us the Kim dynasty that destroyed their own country. Fascism gave us Franco that kept his country decades in the past in every manner. Monarchism gave us Leopold II of Belgium who committed genocides in Africa Theocracy gave us Pope John XII who fucked half of rome So as we can easily gather, every for of government had its share of shitty figureheads.\n",
      "text: TITLE: Thirty years after Tiananmen, protesters' goals further away than ever:\"Now, democracy is not only facing problems in China. Democracy cannot survive if China is the global power.\" POST: Well, democracy gave us Trump to the whole world. I'll let others judge what democracy is. POST: Lets see what other system gave us. Communism gave us the Kim dynasty that destroyed their own country. Fascism gave us Franco that kept his country decades in the past in every manner. Monarchism gave us Leopold II of Belgium who committed genocides in Africa Theocracy gave us Pope John XII who fucked half of rome So as we can easily gather, every for of government had its share of shitty figureheads. That doesnt prove anything. At least in democracy we have the chance to switch them, you know what they do in other forms of government? Wait. North korea is still waiting on the Kim dynasty to die off, Spain had to wait until Franco dies to start modernizing, the people of Congo had to wait until Leo II died so they can stop getting killed, and the catholic world had to wait until John XII to normalize again.\n",
      "\n",
      "Failed to match span for fallacy Fallacy.STRAWMAN_FALLACY:\n",
      "span: ...Lars, Kirk and even Cliff have all been criticized for their technical skills, but their creativity, along with James... was what made Metallica the greatest metal band of all time, not their chops.\n",
      "text: TITLE: Slayer's Dave Lombardo Shares Opinion on Metallica's Lars Ulrich\n",
      "POST: I'm not a musician so bear with me here. Why the constant debate about Lars' skills? If a successful band in any genre was based only on the very best technical players there would only be a handful of bands out there to listen to right?\n",
      "POST: It is fair to say that Lars, in the grand scheme of heavy metal drummers, ranks lower when it comes to technical skills, especially compared to the likes of Lombardo or Menza, and his drumming has only gotten lazier and sloppier with time. However, the drumming on the first four albums, especially AFJA, was pretty solid. The fact is, Lars is responsible for some of the most memorable drum parts in metal (like the machine gun double bass part in One) and he is absolutely indispensable to the songwriting process with James. Lars, Kirk and even Cliff have all been criticized for their technical skills, but their creativity, along with James (who is an excellent songwriter and rhythm guitarist), was what made Metallica the greatest metal band of all time, not their chops.\n"
     ]
    }
   ],
   "execution_count": 11
  },
  {
   "metadata": {
    "ExecuteTime": {
     "end_time": "2024-11-15T12:42:56.488850Z",
     "start_time": "2024-11-15T12:42:56.469331Z"
    }
   },
   "cell_type": "code",
   "source": [
    "metrics = get_mean_metrics(df_mafalda_e31)\n",
    "metrics.round(3)"
   ],
   "id": "4ce8d16348b4e9f8",
   "outputs": [
    {
     "data": {
      "text/plain": [
       "             precision  recall     f1\n",
       "gpt_4o_mini      0.294   0.609  0.282"
      ],
      "text/html": [
       "<div>\n",
       "<style scoped>\n",
       "    .dataframe tbody tr th:only-of-type {\n",
       "        vertical-align: middle;\n",
       "    }\n",
       "\n",
       "    .dataframe tbody tr th {\n",
       "        vertical-align: top;\n",
       "    }\n",
       "\n",
       "    .dataframe thead th {\n",
       "        text-align: right;\n",
       "    }\n",
       "</style>\n",
       "<table border=\"1\" class=\"dataframe\">\n",
       "  <thead>\n",
       "    <tr style=\"text-align: right;\">\n",
       "      <th></th>\n",
       "      <th>precision</th>\n",
       "      <th>recall</th>\n",
       "      <th>f1</th>\n",
       "    </tr>\n",
       "  </thead>\n",
       "  <tbody>\n",
       "    <tr>\n",
       "      <th>gpt_4o_mini</th>\n",
       "      <td>0.294</td>\n",
       "      <td>0.609</td>\n",
       "      <td>0.282</td>\n",
       "    </tr>\n",
       "  </tbody>\n",
       "</table>\n",
       "</div>"
      ]
     },
     "execution_count": 23,
     "metadata": {},
     "output_type": "execute_result"
    }
   ],
   "execution_count": 23
  },
  {
   "metadata": {
    "ExecuteTime": {
     "end_time": "2024-11-15T12:30:50.878398Z",
     "start_time": "2024-11-15T12:10:18.596914Z"
    }
   },
   "cell_type": "code",
   "source": "test = 'test'",
   "id": "5b6df9dbdb28ee6c",
   "outputs": [
    {
     "ename": "KeyboardInterrupt",
     "evalue": "",
     "output_type": "error",
     "traceback": [
      "\u001B[0;31m---------------------------------------------------------------------------\u001B[0m",
      "\u001B[0;31mKeyboardInterrupt\u001B[0m                         Traceback (most recent call last)",
      "Cell \u001B[0;32mIn[12], line 1\u001B[0m\n\u001B[0;32m----> 1\u001B[0m test \u001B[38;5;241m=\u001B[39m \u001B[38;5;124m'\u001B[39m\u001B[38;5;124mtest\u001B[39m\u001B[38;5;124m'\u001B[39m\n",
      "File \u001B[0;32m~/.local/share/JetBrains/Toolbox/apps/pycharm-professional/plugins/python-ce/helpers/pydev/_pydevd_bundle/pydevd_frame.py:755\u001B[0m, in \u001B[0;36mPyDBFrame.trace_dispatch\u001B[0;34m(self, frame, event, arg)\u001B[0m\n\u001B[1;32m    753\u001B[0m \u001B[38;5;66;03m# if thread has a suspend flag, we suspend with a busy wait\u001B[39;00m\n\u001B[1;32m    754\u001B[0m \u001B[38;5;28;01mif\u001B[39;00m info\u001B[38;5;241m.\u001B[39mpydev_state \u001B[38;5;241m==\u001B[39m STATE_SUSPEND:\n\u001B[0;32m--> 755\u001B[0m     \u001B[38;5;28mself\u001B[39m\u001B[38;5;241m.\u001B[39mdo_wait_suspend(thread, frame, event, arg)\n\u001B[1;32m    756\u001B[0m     \u001B[38;5;66;03m# No need to reset frame.f_trace to keep the same trace function.\u001B[39;00m\n\u001B[1;32m    757\u001B[0m     \u001B[38;5;28;01mreturn\u001B[39;00m \u001B[38;5;28mself\u001B[39m\u001B[38;5;241m.\u001B[39mtrace_dispatch\n",
      "File \u001B[0;32m~/.local/share/JetBrains/Toolbox/apps/pycharm-professional/plugins/python-ce/helpers/pydev/_pydevd_bundle/pydevd_frame.py:412\u001B[0m, in \u001B[0;36mPyDBFrame.do_wait_suspend\u001B[0;34m(self, *args, **kwargs)\u001B[0m\n\u001B[1;32m    411\u001B[0m \u001B[38;5;28;01mdef\u001B[39;00m \u001B[38;5;21mdo_wait_suspend\u001B[39m(\u001B[38;5;28mself\u001B[39m, \u001B[38;5;241m*\u001B[39margs, \u001B[38;5;241m*\u001B[39m\u001B[38;5;241m*\u001B[39mkwargs):\n\u001B[0;32m--> 412\u001B[0m     \u001B[38;5;28mself\u001B[39m\u001B[38;5;241m.\u001B[39m_args[\u001B[38;5;241m0\u001B[39m]\u001B[38;5;241m.\u001B[39mdo_wait_suspend(\u001B[38;5;241m*\u001B[39margs, \u001B[38;5;241m*\u001B[39m\u001B[38;5;241m*\u001B[39mkwargs)\n",
      "File \u001B[0;32m~/.local/share/JetBrains/Toolbox/apps/pycharm-professional/plugins/python-ce/helpers/pydev/pydevd.py:1220\u001B[0m, in \u001B[0;36mPyDB.do_wait_suspend\u001B[0;34m(self, thread, frame, event, arg, send_suspend_message, is_unhandled_exception)\u001B[0m\n\u001B[1;32m   1217\u001B[0m         from_this_thread\u001B[38;5;241m.\u001B[39mappend(frame_id)\n\u001B[1;32m   1219\u001B[0m \u001B[38;5;28;01mwith\u001B[39;00m \u001B[38;5;28mself\u001B[39m\u001B[38;5;241m.\u001B[39m_threads_suspended_single_notification\u001B[38;5;241m.\u001B[39mnotify_thread_suspended(thread_id, stop_reason):\n\u001B[0;32m-> 1220\u001B[0m     \u001B[38;5;28mself\u001B[39m\u001B[38;5;241m.\u001B[39m_do_wait_suspend(thread, frame, event, arg, suspend_type, from_this_thread)\n",
      "File \u001B[0;32m~/.local/share/JetBrains/Toolbox/apps/pycharm-professional/plugins/python-ce/helpers/pydev/pydevd.py:1235\u001B[0m, in \u001B[0;36mPyDB._do_wait_suspend\u001B[0;34m(self, thread, frame, event, arg, suspend_type, from_this_thread)\u001B[0m\n\u001B[1;32m   1232\u001B[0m             \u001B[38;5;28mself\u001B[39m\u001B[38;5;241m.\u001B[39m_call_mpl_hook()\n\u001B[1;32m   1234\u001B[0m         \u001B[38;5;28mself\u001B[39m\u001B[38;5;241m.\u001B[39mprocess_internal_commands()\n\u001B[0;32m-> 1235\u001B[0m         time\u001B[38;5;241m.\u001B[39msleep(\u001B[38;5;241m0.01\u001B[39m)\n\u001B[1;32m   1237\u001B[0m \u001B[38;5;28mself\u001B[39m\u001B[38;5;241m.\u001B[39mcancel_async_evaluation(get_current_thread_id(thread), \u001B[38;5;28mstr\u001B[39m(\u001B[38;5;28mid\u001B[39m(frame)))\n\u001B[1;32m   1239\u001B[0m \u001B[38;5;66;03m# process any stepping instructions\u001B[39;00m\n",
      "\u001B[0;31mKeyboardInterrupt\u001B[0m: "
     ]
    }
   ],
   "execution_count": 12
  }
 ],
 "metadata": {
  "kernelspec": {
   "display_name": "Python 3",
   "language": "python",
   "name": "python3"
  },
  "language_info": {
   "codemirror_mode": {
    "name": "ipython",
    "version": 2
   },
   "file_extension": ".py",
   "mimetype": "text/x-python",
   "name": "python",
   "nbconvert_exporter": "python",
   "pygments_lexer": "ipython2",
   "version": "2.7.6"
  }
 },
 "nbformat": 4,
 "nbformat_minor": 5
}
