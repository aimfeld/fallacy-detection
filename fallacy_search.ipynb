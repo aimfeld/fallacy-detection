{
 "cells": [
  {
   "metadata": {},
   "cell_type": "markdown",
   "source": "# Fallacy Search Analysis",
   "id": "ad8039b3e62954ab"
  },
  {
   "metadata": {
    "ExecuteTime": {
     "end_time": "2024-11-15T18:54:35.519561Z",
     "start_time": "2024-11-15T18:54:35.500980Z"
    }
   },
   "cell_type": "code",
   "source": [
    "%load_ext autoreload\n",
    "%autoreload 2\n",
    "\n",
    "from src.mafalda import get_mafalda_df, save_mafalda_df, evaluate_responses, get_llm_metrics\n",
    "import seaborn as sns\n",
    "\n",
    "sns.set_theme()"
   ],
   "id": "bf5e9f6ad61348eb",
   "outputs": [
    {
     "name": "stdout",
     "output_type": "stream",
     "text": [
      "The autoreload extension is already loaded. To reload it, use:\n",
      "  %reload_ext autoreload\n"
     ]
    }
   ],
   "execution_count": 35
  },
  {
   "metadata": {},
   "cell_type": "markdown",
   "source": "## Experiment 3.1: Fallacy Search",
   "id": "5a81713385cee4ac"
  },
  {
   "metadata": {
    "ExecuteTime": {
     "end_time": "2024-11-15T18:37:09.736534Z",
     "start_time": "2024-11-15T18:37:09.704153Z"
    }
   },
   "cell_type": "code",
   "source": [
    "filename_e31 = 'data/mafalda_e31.csv'\n",
    "df_mafalda_e31 = get_mafalda_df(filename_e31)\n",
    "df_mafalda_e31.head()"
   ],
   "id": "62c8c9e9ae688408",
   "outputs": [
    {
     "name": "stdout",
     "output_type": "stream",
     "text": [
      "[2024-11-15 19:37:09] Loaded existing mafalda dataframe from data/mafalda_e31.csv.\n"
     ]
    },
    {
     "data": {
      "text/plain": [
       "                                                text  \\\n",
       "0  TITLE: Endless Ledge Skip Campaign for Alts PO...   \n",
       "1  Two of my best friends are really introverted,...   \n",
       "2  TITLE: There is a difference between a'smurf' ...   \n",
       "3  TITLE: Discussion Thread (Part 3): 2020 Presid...   \n",
       "4  America is the best place to live, because it'...   \n",
       "\n",
       "                                              labels  \\\n",
       "0                       [[155, 588, slippery slope]]   \n",
       "1                  [[84, 145, hasty generalization]]   \n",
       "2                        [[118, 265, false analogy]]   \n",
       "3  [[107, 261, guilt by association], [107, 338, ...   \n",
       "4                      [[0, 78, circular reasoning]]   \n",
       "\n",
       "                                            comments  \\\n",
       "0  ['Slippery slope: P1 = poster, A = why not jus...   \n",
       "1  [\"Based on two people only, you can't draw gen...   \n",
       "2  ['False Analogy: X: Having an alt , Y: smurfin...   \n",
       "3  ['Circular reasoning: X = The status quo in Am...   \n",
       "4  ['Circular reasoning: X=America is the best pl...   \n",
       "\n",
       "                               sentences_with_labels  \\\n",
       "0  {'TITLE: Endless Ledge Skip Campaign for Alts ...   \n",
       "1  {'Two of my best friends are really introverte...   \n",
       "2  {'TITLE: There is a difference between a'smurf...   \n",
       "3  {'TITLE: Discussion Thread (Part 3): 2020 Pres...   \n",
       "4  {'America is the best place to live, because i...   \n",
       "\n",
       "                                gpt_4o_mini_response  \\\n",
       "0  fallacies=[FallacyEntry(fallacy=<Fallacy.SLIPP...   \n",
       "1  fallacies=[FallacyEntry(fallacy=<Fallacy.HASTY...   \n",
       "2  fallacies=[FallacyEntry(fallacy=<Fallacy.FALSE...   \n",
       "3  fallacies=[FallacyEntry(fallacy=<Fallacy.HASTY...   \n",
       "4  fallacies=[FallacyEntry(fallacy=<Fallacy.CIRCU...   \n",
       "\n",
       "                                     gpt_4o_response  \n",
       "0  fallacies=[FallacyEntry(fallacy=<Fallacy.SLIPP...  \n",
       "1  fallacies=[FallacyEntry(fallacy=<Fallacy.HASTY...  \n",
       "2  fallacies=[FallacyEntry(fallacy=<Fallacy.EQUIV...  \n",
       "3  fallacies=[FallacyEntry(fallacy=<Fallacy.HASTY...  \n",
       "4  fallacies=[FallacyEntry(fallacy=<Fallacy.CIRCU...  "
      ],
      "text/html": [
       "<div>\n",
       "<style scoped>\n",
       "    .dataframe tbody tr th:only-of-type {\n",
       "        vertical-align: middle;\n",
       "    }\n",
       "\n",
       "    .dataframe tbody tr th {\n",
       "        vertical-align: top;\n",
       "    }\n",
       "\n",
       "    .dataframe thead th {\n",
       "        text-align: right;\n",
       "    }\n",
       "</style>\n",
       "<table border=\"1\" class=\"dataframe\">\n",
       "  <thead>\n",
       "    <tr style=\"text-align: right;\">\n",
       "      <th></th>\n",
       "      <th>text</th>\n",
       "      <th>labels</th>\n",
       "      <th>comments</th>\n",
       "      <th>sentences_with_labels</th>\n",
       "      <th>gpt_4o_mini_response</th>\n",
       "      <th>gpt_4o_response</th>\n",
       "    </tr>\n",
       "  </thead>\n",
       "  <tbody>\n",
       "    <tr>\n",
       "      <th>0</th>\n",
       "      <td>TITLE: Endless Ledge Skip Campaign for Alts PO...</td>\n",
       "      <td>[[155, 588, slippery slope]]</td>\n",
       "      <td>['Slippery slope: P1 = poster, A = why not jus...</td>\n",
       "      <td>{'TITLE: Endless Ledge Skip Campaign for Alts ...</td>\n",
       "      <td>fallacies=[FallacyEntry(fallacy=&lt;Fallacy.SLIPP...</td>\n",
       "      <td>fallacies=[FallacyEntry(fallacy=&lt;Fallacy.SLIPP...</td>\n",
       "    </tr>\n",
       "    <tr>\n",
       "      <th>1</th>\n",
       "      <td>Two of my best friends are really introverted,...</td>\n",
       "      <td>[[84, 145, hasty generalization]]</td>\n",
       "      <td>[\"Based on two people only, you can't draw gen...</td>\n",
       "      <td>{'Two of my best friends are really introverte...</td>\n",
       "      <td>fallacies=[FallacyEntry(fallacy=&lt;Fallacy.HASTY...</td>\n",
       "      <td>fallacies=[FallacyEntry(fallacy=&lt;Fallacy.HASTY...</td>\n",
       "    </tr>\n",
       "    <tr>\n",
       "      <th>2</th>\n",
       "      <td>TITLE: There is a difference between a'smurf' ...</td>\n",
       "      <td>[[118, 265, false analogy]]</td>\n",
       "      <td>['False Analogy: X: Having an alt , Y: smurfin...</td>\n",
       "      <td>{'TITLE: There is a difference between a'smurf...</td>\n",
       "      <td>fallacies=[FallacyEntry(fallacy=&lt;Fallacy.FALSE...</td>\n",
       "      <td>fallacies=[FallacyEntry(fallacy=&lt;Fallacy.EQUIV...</td>\n",
       "    </tr>\n",
       "    <tr>\n",
       "      <th>3</th>\n",
       "      <td>TITLE: Discussion Thread (Part 3): 2020 Presid...</td>\n",
       "      <td>[[107, 261, guilt by association], [107, 338, ...</td>\n",
       "      <td>['Circular reasoning: X = The status quo in Am...</td>\n",
       "      <td>{'TITLE: Discussion Thread (Part 3): 2020 Pres...</td>\n",
       "      <td>fallacies=[FallacyEntry(fallacy=&lt;Fallacy.HASTY...</td>\n",
       "      <td>fallacies=[FallacyEntry(fallacy=&lt;Fallacy.HASTY...</td>\n",
       "    </tr>\n",
       "    <tr>\n",
       "      <th>4</th>\n",
       "      <td>America is the best place to live, because it'...</td>\n",
       "      <td>[[0, 78, circular reasoning]]</td>\n",
       "      <td>['Circular reasoning: X=America is the best pl...</td>\n",
       "      <td>{'America is the best place to live, because i...</td>\n",
       "      <td>fallacies=[FallacyEntry(fallacy=&lt;Fallacy.CIRCU...</td>\n",
       "      <td>fallacies=[FallacyEntry(fallacy=&lt;Fallacy.CIRCU...</td>\n",
       "    </tr>\n",
       "  </tbody>\n",
       "</table>\n",
       "</div>"
      ]
     },
     "execution_count": 30,
     "metadata": {},
     "output_type": "execute_result"
    }
   ],
   "execution_count": 30
  },
  {
   "metadata": {},
   "cell_type": "markdown",
   "source": "### Scoring and Sanity Check",
   "id": "86fb92f5aa5743b6"
  },
  {
   "metadata": {
    "ExecuteTime": {
     "end_time": "2024-11-15T19:00:51.988092Z",
     "start_time": "2024-11-15T19:00:50.032221Z"
    }
   },
   "cell_type": "code",
   "source": [
    "evaluate_responses(df_mafalda_e31, confidence_threshold=0.5)\n",
    "\n",
    "# save_mafalda_df(df_mafalda_e31, filename_e31)"
   ],
   "id": "6cfc4e8ae2ced447",
   "outputs": [
    {
     "name": "stdout",
     "output_type": "stream",
     "text": [
      "[2024-11-15 20:00:50] Evaluating responses for gpt_4o_mini ...\n",
      "Warning: failed to match span for fallacy Fallacy.APPEAL_TO_AUTHORITY:\n",
      "span: Check [fightthenewdrug.org] for studies on the harmful effects of pornography.\n",
      "text: TITLE: Should I [23F] urge my husband [26M] to stop watching porn? POST: Yes. Porn has gained the support of popular culture, but it is unhealthy. It has been shown to make men more sexually aggressive, dissatisfied with their own sex lives, and contributes to the global sex trade. Viewing porn also causes prolonged dopamine exposure, which the brain will build resistance against - making it more difficult to feel joy from other daily activities. Porn is also highly addictive, and has diminishing returns over time, so a user will have to watch more porn, or more extreme porn, to get the same amount of dopamine. Check [fightthenewdrug.org](<URL>) for studies on the harmful effects of pornography. POST: Yeah, I always go to religious organizations to supply me with clear and objective scientific studies...\n",
      "\n",
      "Warning: failed to match span for fallacy Fallacy.CAUSAL_OVERSIMPLIFICATION:\n",
      "span: If we observe the increase level of world population, and we observe in Google Maps how cities and towns are growing their urban areas, and all the impacts in climate change especially about the consumption of natural resources, I think it is a possibility to consider humans are invasive species.\n",
      "text: TITLE: Can we consider humans as an invasive specie?\r\n",
      "POST: Not by definition. [<URL>](<URL>)\r\n",
      "POST: Interesting article and thanks for sharing, but let me to be skeptic about: *\" 3) An invasive species is introduced to a new habitat: Humans move themselves; there is no outside entity facilitating their spread.* *4) An invasive species had adverse effects on its new habitat and/or on human health: Humans meet this part of the definition in too many ways to count. \"* If we observe the increase level of [world population](<URL>), and we observe in [Google Maps](<URL>) how cities and towns are growing their [urban areas](<URL>), and all the impacts in climate change especially about the [consumption of natural resources](<URL>) , I think it is a possibility to consider humans are invasive species.\n",
      "[2024-11-15 20:00:51] Evaluating responses for gpt_4o ...\n",
      "Warning: failed to match span for fallacy Fallacy.HASTY_GENERALIZATION:\n",
      "span: In all honesty have we seen one single Covid related model turn out to be correct or even close in the past 10 months? Every one I remember seeing has proven itself to be between 50% and 90% overstated.\n",
      "text: TITLE: In mid-December, a model from the CA government predicted 75K COVID hospitalizations by mid-January, steep growth from the 16K then hospitalized. Yesterday, CA had less than 21K COVID hospitalizations.\r\n",
      "POST: In all honesty have we seen one single Covid related model turn out to be correct or even close in the past 10 months?\r\n",
      "POST: Every one I remember seeing has proven itself to be between 50% and 90% overstated. Our death counts ended up being 10% of what the models were forecasting. One of the cities here went from three overflow hospitals to finding locations for one back in April, then only building a permanent one which has never been staffed. They claim they don't have the personnel to staff them....despite the state's NG being given authorization from our governor to send its stock of nurses and doctors to do it. It makes me wonder of it was just the usual bureaucratic waste or if they've got a future use in mind for the facility...\n"
     ]
    }
   ],
   "execution_count": 37
  },
  {
   "metadata": {
    "ExecuteTime": {
     "end_time": "2024-11-15T19:12:27.919207Z",
     "start_time": "2024-11-15T19:12:27.364267Z"
    }
   },
   "cell_type": "code",
   "source": [
    "metrics = get_llm_metrics(df_mafalda_e31)\n",
    "metrics.round(3)"
   ],
   "id": "4ce8d16348b4e9f8",
   "outputs": [
    {
     "data": {
      "text/plain": [
       "             precision  recall     f1  fallacy_count  confidence\n",
       "gpt_4o_mini      0.433   0.579  0.365          1.640       0.685\n",
       "gpt_4o           0.464   0.661  0.401          1.485       0.836"
      ],
      "text/html": [
       "<div>\n",
       "<style scoped>\n",
       "    .dataframe tbody tr th:only-of-type {\n",
       "        vertical-align: middle;\n",
       "    }\n",
       "\n",
       "    .dataframe tbody tr th {\n",
       "        vertical-align: top;\n",
       "    }\n",
       "\n",
       "    .dataframe thead th {\n",
       "        text-align: right;\n",
       "    }\n",
       "</style>\n",
       "<table border=\"1\" class=\"dataframe\">\n",
       "  <thead>\n",
       "    <tr style=\"text-align: right;\">\n",
       "      <th></th>\n",
       "      <th>precision</th>\n",
       "      <th>recall</th>\n",
       "      <th>f1</th>\n",
       "      <th>fallacy_count</th>\n",
       "      <th>confidence</th>\n",
       "    </tr>\n",
       "  </thead>\n",
       "  <tbody>\n",
       "    <tr>\n",
       "      <th>gpt_4o_mini</th>\n",
       "      <td>0.433</td>\n",
       "      <td>0.579</td>\n",
       "      <td>0.365</td>\n",
       "      <td>1.640</td>\n",
       "      <td>0.685</td>\n",
       "    </tr>\n",
       "    <tr>\n",
       "      <th>gpt_4o</th>\n",
       "      <td>0.464</td>\n",
       "      <td>0.661</td>\n",
       "      <td>0.401</td>\n",
       "      <td>1.485</td>\n",
       "      <td>0.836</td>\n",
       "    </tr>\n",
       "  </tbody>\n",
       "</table>\n",
       "</div>"
      ]
     },
     "execution_count": 40,
     "metadata": {},
     "output_type": "execute_result"
    }
   ],
   "execution_count": 40
  },
  {
   "metadata": {},
   "cell_type": "markdown",
   "source": "- Mean precision, recall, f1, fallacy count, and confidence rating per LLM",
   "id": "468289cc08fddac5"
  },
  {
   "metadata": {
    "ExecuteTime": {
     "end_time": "2024-11-15T18:22:30.476363Z",
     "start_time": "2024-11-15T18:22:30.458279Z"
    }
   },
   "cell_type": "code",
   "source": [
    "import pandas as pd\n",
    "confidence_ratings = []\n",
    "for fallacies in df_mafalda_e31['gpt_4o_mini_response']:\n",
    "    for _, entries in fallacies:\n",
    "        for entry in entries:\n",
    "            confidence_ratings.append(entry.confidence)\n",
    "\n",
    "# Show confidence rating distribution\n",
    "pd.Series(confidence_ratings).describe()"
   ],
   "id": "fdce37f84df811eb",
   "outputs": [
    {
     "data": {
      "text/plain": [
       "count    328.000000\n",
       "mean       0.685366\n",
       "std        0.090695\n",
       "min        0.500000\n",
       "25%        0.600000\n",
       "50%        0.700000\n",
       "75%        0.700000\n",
       "max        0.900000\n",
       "dtype: float64"
      ]
     },
     "execution_count": 29,
     "metadata": {},
     "output_type": "execute_result"
    }
   ],
   "execution_count": 29
  },
  {
   "metadata": {
    "ExecuteTime": {
     "end_time": "2024-11-15T18:21:59.207832Z",
     "start_time": "2024-11-15T18:21:59.192425Z"
    }
   },
   "cell_type": "code",
   "source": "mafalda = df_mafalda_e31.to_dict(orient='records')",
   "id": "5b6df9dbdb28ee6c",
   "outputs": [],
   "execution_count": 28
  },
  {
   "metadata": {},
   "cell_type": "code",
   "outputs": [],
   "execution_count": null,
   "source": "",
   "id": "9ad0eb3aa84f1630"
  }
 ],
 "metadata": {
  "kernelspec": {
   "display_name": "Python 3",
   "language": "python",
   "name": "python3"
  },
  "language_info": {
   "codemirror_mode": {
    "name": "ipython",
    "version": 2
   },
   "file_extension": ".py",
   "mimetype": "text/x-python",
   "name": "python",
   "nbconvert_exporter": "python",
   "pygments_lexer": "ipython2",
   "version": "2.7.6"
  }
 },
 "nbformat": 4,
 "nbformat_minor": 5
}
