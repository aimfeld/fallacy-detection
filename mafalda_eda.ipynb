{
 "cells": [
  {
   "metadata": {},
   "cell_type": "markdown",
   "source": [
    "# MAFALDA Dataset Exploratory Data Analysis\n",
    "\n",
    "URL: https://github.com/ChadiHelwe/MAFALDA\n",
    "\n"
   ],
   "id": "782af1e8b7ff58ae"
  },
  {
   "metadata": {
    "ExecuteTime": {
     "end_time": "2024-11-13T10:03:36.071671Z",
     "start_time": "2024-11-13T10:03:36.063396Z"
    }
   },
   "cell_type": "code",
   "source": [
    "%load_ext autoreload\n",
    "%autoreload 2\n",
    "\n",
    "from src.mafalda import get_mafalda_df"
   ],
   "id": "e21393e0a583b977",
   "outputs": [
    {
     "name": "stdout",
     "output_type": "stream",
     "text": [
      "The autoreload extension is already loaded. To reload it, use:\n",
      "  %reload_ext autoreload\n"
     ]
    }
   ],
   "execution_count": 35
  },
  {
   "metadata": {
    "ExecuteTime": {
     "end_time": "2024-11-13T14:46:49.238349Z",
     "start_time": "2024-11-13T14:46:49.213777Z"
    }
   },
   "cell_type": "code",
   "source": [
    "filename = 'data/mafalda_e31.csv'\n",
    "df_mafalda = get_mafalda_df(filename)"
   ],
   "id": "b48800a0d3be1bf7",
   "outputs": [
    {
     "name": "stdout",
     "output_type": "stream",
     "text": [
      "[2024-11-13 15:46:49] Loaded existing mafalda dataframe from data/mafalda_e31.csv.\n"
     ]
    }
   ],
   "execution_count": 39
  },
  {
   "metadata": {
    "ExecuteTime": {
     "end_time": "2024-11-13T14:46:49.330766Z",
     "start_time": "2024-11-13T14:46:49.318477Z"
    }
   },
   "cell_type": "code",
   "source": "df_mafalda.info()",
   "id": "1e59be2c7b99193b",
   "outputs": [
    {
     "name": "stdout",
     "output_type": "stream",
     "text": [
      "<class 'pandas.core.frame.DataFrame'>\n",
      "RangeIndex: 200 entries, 0 to 199\n",
      "Data columns (total 5 columns):\n",
      " #   Column                 Non-Null Count  Dtype \n",
      "---  ------                 --------------  ----- \n",
      " 0   text                   200 non-null    object\n",
      " 1   labels                 200 non-null    object\n",
      " 2   comments               200 non-null    object\n",
      " 3   sentences_with_labels  200 non-null    object\n",
      " 4   gpt_4o_response        3 non-null      object\n",
      "dtypes: object(5)\n",
      "memory usage: 7.9+ KB\n"
     ]
    }
   ],
   "execution_count": 40
  },
  {
   "metadata": {
    "ExecuteTime": {
     "end_time": "2024-11-13T14:46:49.436099Z",
     "start_time": "2024-11-13T14:46:49.423519Z"
    }
   },
   "cell_type": "code",
   "source": [
    "sentences = df_mafalda.loc[3, 'sentences_with_labels']\n",
    "comments = df_mafalda.loc[3, 'comments']\n",
    "mafalda = df_mafalda.to_dict('records') # Convert to list of row dictionaries"
   ],
   "id": "7026f4196808868",
   "outputs": [],
   "execution_count": 41
  }
 ],
 "metadata": {
  "kernelspec": {
   "display_name": "Python 3",
   "language": "python",
   "name": "python3"
  },
  "language_info": {
   "codemirror_mode": {
    "name": "ipython",
    "version": 2
   },
   "file_extension": ".py",
   "mimetype": "text/x-python",
   "name": "python",
   "nbconvert_exporter": "python",
   "pygments_lexer": "ipython2",
   "version": "2.7.6"
  }
 },
 "nbformat": 4,
 "nbformat_minor": 5
}
