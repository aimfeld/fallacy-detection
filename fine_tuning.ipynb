{
 "cells": [
  {
   "metadata": {},
   "cell_type": "markdown",
   "source": "# Fine-tuning",
   "id": "820df6bc7f017e5b"
  },
  {
   "metadata": {},
   "cell_type": "markdown",
   "source": [
    "<!--TABLE OF CONTENTS-->\n",
    "**Contents**\n",
    "\n",
    "- [Fallacy Identification](#Fallacy-Identification)\n",
    "- [Fallacy Classification](#Fallacy-Classification)"
   ],
   "id": "37a8342f996f4b78"
  },
  {
   "cell_type": "code",
   "execution_count": 1,
   "id": "initial_id",
   "metadata": {
    "ExecuteTime": {
     "end_time": "2024-11-05T15:54:27.195691Z",
     "start_time": "2024-11-05T15:54:26.214048Z"
    },
    "collapsed": true
   },
   "outputs": [
    {
     "data": {
      "text/plain": [
       "True"
      ]
     },
     "execution_count": 1,
     "metadata": {},
     "output_type": "execute_result"
    }
   ],
   "source": [
    "%load_ext autoreload\n",
    "%autoreload 2\n",
    "\n",
    "import os\n",
    "from dotenv import load_dotenv\n",
    "from src.fallacies import get_fallacy_df, save_fallacy_df\n",
    "from src.experiment import get_classification_prompt_template, get_identification_zero_shot_prompt_template\n",
    "from src.tuning import tuning_train_test_split, get_tuning_examples, save_tuning_examples, TuningSet\n",
    "from openai import OpenAI\n",
    "\n",
    "# Load environment variables from .env file\n",
    "load_dotenv()"
   ]
  },
  {
   "cell_type": "markdown",
   "id": "de0bb7bc8c45af6d",
   "metadata": {},
   "source": [
    "## Fallacy Identification"
   ]
  },
  {
   "cell_type": "code",
   "execution_count": 2,
   "id": "66c44a854243ce22",
   "metadata": {
    "ExecuteTime": {
     "end_time": "2024-11-05T15:54:46.187590Z",
     "start_time": "2024-11-05T15:54:45.790348Z"
    }
   },
   "outputs": [
    {
     "name": "stdout",
     "output_type": "stream",
     "text": [
      "[2024-11-05 16:54:46] Created new fallacy identification dataframe.\n"
     ]
    },
    {
     "data": {
      "text/html": [
       "<div>\n",
       "<style scoped>\n",
       "    .dataframe tbody tr th:only-of-type {\n",
       "        vertical-align: middle;\n",
       "    }\n",
       "\n",
       "    .dataframe tbody tr th {\n",
       "        vertical-align: top;\n",
       "    }\n",
       "\n",
       "    .dataframe thead th {\n",
       "        text-align: right;\n",
       "    }\n",
       "</style>\n",
       "<table border=\"1\" class=\"dataframe\">\n",
       "  <thead>\n",
       "    <tr style=\"text-align: right;\">\n",
       "      <th></th>\n",
       "      <th>step</th>\n",
       "      <th>entity</th>\n",
       "      <th>fallacy</th>\n",
       "      <th>label</th>\n",
       "      <th>category</th>\n",
       "      <th>subcategory</th>\n",
       "    </tr>\n",
       "  </thead>\n",
       "  <tbody>\n",
       "    <tr>\n",
       "      <th>0</th>\n",
       "      <td>Since John asked Maria if she used the last of...</td>\n",
       "      <td>tepas</td>\n",
       "      <td>Argument from Silence</td>\n",
       "      <td>1</td>\n",
       "      <td>informal</td>\n",
       "      <td>insufficiency</td>\n",
       "    </tr>\n",
       "    <tr>\n",
       "      <th>1</th>\n",
       "      <td>Since Alice asked if Bob knew what an 'ossia' ...</td>\n",
       "      <td>ossia</td>\n",
       "      <td>Argument from Silence</td>\n",
       "      <td>1</td>\n",
       "      <td>informal</td>\n",
       "      <td>insufficiency</td>\n",
       "    </tr>\n",
       "    <tr>\n",
       "      <th>2</th>\n",
       "      <td>Since Alice claims that the Hausdorff contents...</td>\n",
       "      <td>hausdorff contents</td>\n",
       "      <td>Argument from Silence</td>\n",
       "      <td>1</td>\n",
       "      <td>informal</td>\n",
       "      <td>insufficiency</td>\n",
       "    </tr>\n",
       "    <tr>\n",
       "      <th>3</th>\n",
       "      <td>Since Tom, a seasoned tugboater, said that ice...</td>\n",
       "      <td>tugboaters</td>\n",
       "      <td>Argument from Silence</td>\n",
       "      <td>1</td>\n",
       "      <td>informal</td>\n",
       "      <td>insufficiency</td>\n",
       "    </tr>\n",
       "    <tr>\n",
       "      <th>4</th>\n",
       "      <td>Since John accuses Mary of being terrified of ...</td>\n",
       "      <td>beewolf</td>\n",
       "      <td>Argument from Silence</td>\n",
       "      <td>1</td>\n",
       "      <td>informal</td>\n",
       "      <td>insufficiency</td>\n",
       "    </tr>\n",
       "  </tbody>\n",
       "</table>\n",
       "</div>"
      ],
      "text/plain": [
       "                                                step              entity  \\\n",
       "0  Since John asked Maria if she used the last of...               tepas   \n",
       "1  Since Alice asked if Bob knew what an 'ossia' ...               ossia   \n",
       "2  Since Alice claims that the Hausdorff contents...  hausdorff contents   \n",
       "3  Since Tom, a seasoned tugboater, said that ice...          tugboaters   \n",
       "4  Since John accuses Mary of being terrified of ...             beewolf   \n",
       "\n",
       "                 fallacy label  category    subcategory  \n",
       "0  Argument from Silence     1  informal  insufficiency  \n",
       "1  Argument from Silence     1  informal  insufficiency  \n",
       "2  Argument from Silence     1  informal  insufficiency  \n",
       "3  Argument from Silence     1  informal  insufficiency  \n",
       "4  Argument from Silence     1  informal  insufficiency  "
      ]
     },
     "execution_count": 2,
     "metadata": {},
     "output_type": "execute_result"
    }
   ],
   "source": [
    "df_fallacies_e14 = get_fallacy_df('data/fallacies_e14.csv', only_incorrect=False)\n",
    "\n",
    "df_fallacies_e14.head()"
   ]
  },
  {
   "cell_type": "code",
   "execution_count": 3,
   "id": "cfee52cff985cf89",
   "metadata": {
    "ExecuteTime": {
     "end_time": "2024-11-05T15:54:48.774786Z",
     "start_time": "2024-11-05T15:54:48.751707Z"
    }
   },
   "outputs": [
    {
     "data": {
      "text/plain": [
       "tuning\n",
       "test          2320\n",
       "train         1856\n",
       "validation     464\n",
       "Name: count, dtype: int64"
      ]
     },
     "execution_count": 3,
     "metadata": {},
     "output_type": "execute_result"
    }
   ],
   "source": [
    "tuning_train_test_split(df_fallacies_e14, ['fallacy', 'label'], n_train=4, n_validation=1)\n",
    "df_fallacies_e14['tuning'].value_counts()\n"
   ]
  },
  {
   "cell_type": "code",
   "execution_count": 4,
   "id": "675ff8d93aa2ce45",
   "metadata": {
    "ExecuteTime": {
     "end_time": "2024-11-05T15:54:51.874843Z",
     "start_time": "2024-11-05T15:54:51.855221Z"
    }
   },
   "outputs": [
    {
     "data": {
      "text/plain": [
       "label\n",
       "1    2320\n",
       "0    2320\n",
       "Name: count, dtype: int64"
      ]
     },
     "execution_count": 4,
     "metadata": {},
     "output_type": "execute_result"
    }
   ],
   "source": [
    "df_fallacies_e14['label'].value_counts()"
   ]
  },
  {
   "cell_type": "code",
   "execution_count": 5,
   "id": "67586c27702b177e",
   "metadata": {
    "ExecuteTime": {
     "end_time": "2024-11-05T15:54:54.640809Z",
     "start_time": "2024-11-05T15:54:54.590037Z"
    }
   },
   "outputs": [],
   "source": [
    "prompt_template = get_identification_zero_shot_prompt_template()\n",
    "system_prompt = 'You are a logical fallacy detector. Given a reasoning step, your task is to identify whether it is correct or not.'\n",
    "train_examples = get_tuning_examples(df_fallacies_e14, prompt_template, system_prompt, 'label', TuningSet.TRAIN)\n",
    "validation_examples = get_tuning_examples(df_fallacies_e14, prompt_template, system_prompt, 'label', TuningSet.VALIDATION)"
   ]
  },
  {
   "cell_type": "code",
   "execution_count": 6,
   "id": "7b8d8e8982cc9bc8",
   "metadata": {
    "ExecuteTime": {
     "end_time": "2024-11-05T16:08:27.356503Z",
     "start_time": "2024-11-05T16:08:27.327740Z"
    }
   },
   "outputs": [],
   "source": [
    "save_tuning_examples(train_examples, 'data/tuning_train_e14.jsonl')\n",
    "save_tuning_examples(validation_examples, 'data/tuning_validation_e14.jsonl')"
   ]
  },
  {
   "cell_type": "code",
   "execution_count": 7,
   "id": "e741ad604efe4507",
   "metadata": {
    "ExecuteTime": {
     "end_time": "2024-11-05T16:09:44.802240Z",
     "start_time": "2024-11-05T16:09:42.943454Z"
    }
   },
   "outputs": [],
   "source": [
    "client = OpenAI(api_key=os.getenv(\"OPENAI_API_KEY\"))\n",
    "\n",
    "# Upload the training and validation files to the OpenAI API\n",
    "train_file = client.files.create(file=open(\"data/tuning_train_e14.jsonl\", \"rb\"), purpose=\"fine-tune\")\n",
    "validation_file = client.files.create(file=open(\"data/tuning_validation_e14.jsonl\", \"rb\"), purpose=\"fine-tune\")"
   ]
  },
  {
   "cell_type": "code",
   "execution_count": 8,
   "id": "1ff521a98c278fe3",
   "metadata": {
    "ExecuteTime": {
     "end_time": "2024-11-05T16:09:53.001930Z",
     "start_time": "2024-11-05T16:09:52.980981Z"
    }
   },
   "outputs": [
    {
     "name": "stdout",
     "output_type": "stream",
     "text": [
      "Train file ID: file-Zg0TAM70bvVxwMTSs6Es2J0d\n",
      "Validation file ID: file-evv9npgSUZI13ZzuioEZFzMO\n"
     ]
    }
   ],
   "source": [
    "print('Train file ID:', train_file.id)\n",
    "print('Validation file ID:',validation_file.id)"
   ]
  },
  {
   "cell_type": "code",
   "execution_count": 9,
   "id": "7d10bcacac91759f",
   "metadata": {
    "ExecuteTime": {
     "end_time": "2024-11-05T16:10:59.030092Z",
     "start_time": "2024-11-05T16:10:56.989908Z"
    }
   },
   "outputs": [
    {
     "data": {
      "text/plain": [
       "FineTuningJob(id='ftjob-HiA3t5R8V0X9h5UKwkKoquet', created_at=1730823058, error=Error(code=None, message=None, param=None), fine_tuned_model=None, finished_at=None, hyperparameters=Hyperparameters(n_epochs='auto', batch_size='auto', learning_rate_multiplier='auto'), model='gpt-4o-mini-2024-07-18', object='fine_tuning.job', organization_id='org-k2KKJWldFPKvRIwPH9qZcydN', result_files=[], seed=42, status='validating_files', trained_tokens=None, training_file='file-Zg0TAM70bvVxwMTSs6Es2J0d', validation_file='file-evv9npgSUZI13ZzuioEZFzMO', estimated_finish=None, integrations=[], user_provided_suffix='fallacy-identification-v2')"
      ]
     },
     "execution_count": 9,
     "metadata": {},
     "output_type": "execute_result"
    }
   ],
   "source": [
    "# Fine tune model\n",
    "# fallacy-identification-v2 (gpt-4o-mini): \n",
    "# - n_train=4, n_validation=1 (within fallacy and label)\n",
    "# - 554,946 trained tokens \n",
    "# - Actual cost: $1.67\n",
    "client.fine_tuning.jobs.create(\n",
    "    training_file=train_file.id,\n",
    "    validation_file=validation_file.id,\n",
    "    model=\"gpt-4o-mini-2024-07-18\",\n",
    "    seed=42,\n",
    "    suffix=\"fallacy-identification-v2\"\n",
    ")"
   ]
  },
  {
   "cell_type": "code",
   "execution_count": 10,
   "id": "32f675eec662aeb5",
   "metadata": {
    "ExecuteTime": {
     "end_time": "2024-11-05T16:11:02.310967Z",
     "start_time": "2024-11-05T16:11:02.270851Z"
    }
   },
   "outputs": [],
   "source": [
    "save_fallacy_df(df_fallacies_e14, 'data/fallacies_e14.csv')"
   ]
  },
  {
   "cell_type": "markdown",
   "id": "5da774fb396b93ef",
   "metadata": {},
   "source": [
    "## Fallacy Classification"
   ]
  },
  {
   "cell_type": "code",
   "execution_count": 2,
   "id": "e1a1da85de0ffb3a",
   "metadata": {
    "ExecuteTime": {
     "end_time": "2024-10-28T11:48:28.806489Z",
     "start_time": "2024-10-28T11:48:28.637584Z"
    }
   },
   "outputs": [
    {
     "name": "stdout",
     "output_type": "stream",
     "text": [
      "[2024-10-28 12:48:28] Created new fallacy identification dataframe.\n"
     ]
    },
    {
     "data": {
      "text/html": [
       "<div>\n",
       "<style scoped>\n",
       "    .dataframe tbody tr th:only-of-type {\n",
       "        vertical-align: middle;\n",
       "    }\n",
       "\n",
       "    .dataframe tbody tr th {\n",
       "        vertical-align: top;\n",
       "    }\n",
       "\n",
       "    .dataframe thead th {\n",
       "        text-align: right;\n",
       "    }\n",
       "</style>\n",
       "<table border=\"1\" class=\"dataframe\">\n",
       "  <thead>\n",
       "    <tr style=\"text-align: right;\">\n",
       "      <th></th>\n",
       "      <th>step</th>\n",
       "      <th>entity</th>\n",
       "      <th>fallacy</th>\n",
       "      <th>label</th>\n",
       "      <th>category</th>\n",
       "      <th>subcategory</th>\n",
       "    </tr>\n",
       "  </thead>\n",
       "  <tbody>\n",
       "    <tr>\n",
       "      <th>0</th>\n",
       "      <td>Since John asked Maria if she used the last of...</td>\n",
       "      <td>tepas</td>\n",
       "      <td>Argument from Silence</td>\n",
       "      <td>1</td>\n",
       "      <td>informal</td>\n",
       "      <td>insufficiency</td>\n",
       "    </tr>\n",
       "    <tr>\n",
       "      <th>1</th>\n",
       "      <td>Since Alice asked if Bob knew what an 'ossia' ...</td>\n",
       "      <td>ossia</td>\n",
       "      <td>Argument from Silence</td>\n",
       "      <td>1</td>\n",
       "      <td>informal</td>\n",
       "      <td>insufficiency</td>\n",
       "    </tr>\n",
       "    <tr>\n",
       "      <th>2</th>\n",
       "      <td>Since Alice claims that the Hausdorff contents...</td>\n",
       "      <td>hausdorff contents</td>\n",
       "      <td>Argument from Silence</td>\n",
       "      <td>1</td>\n",
       "      <td>informal</td>\n",
       "      <td>insufficiency</td>\n",
       "    </tr>\n",
       "    <tr>\n",
       "      <th>3</th>\n",
       "      <td>Since Tom, a seasoned tugboater, said that ice...</td>\n",
       "      <td>tugboaters</td>\n",
       "      <td>Argument from Silence</td>\n",
       "      <td>1</td>\n",
       "      <td>informal</td>\n",
       "      <td>insufficiency</td>\n",
       "    </tr>\n",
       "    <tr>\n",
       "      <th>4</th>\n",
       "      <td>Since John accuses Mary of being terrified of ...</td>\n",
       "      <td>beewolf</td>\n",
       "      <td>Argument from Silence</td>\n",
       "      <td>1</td>\n",
       "      <td>informal</td>\n",
       "      <td>insufficiency</td>\n",
       "    </tr>\n",
       "  </tbody>\n",
       "</table>\n",
       "</div>"
      ],
      "text/plain": [
       "                                                step              entity  \\\n",
       "0  Since John asked Maria if she used the last of...               tepas   \n",
       "1  Since Alice asked if Bob knew what an 'ossia' ...               ossia   \n",
       "2  Since Alice claims that the Hausdorff contents...  hausdorff contents   \n",
       "3  Since Tom, a seasoned tugboater, said that ice...          tugboaters   \n",
       "4  Since John accuses Mary of being terrified of ...             beewolf   \n",
       "\n",
       "                 fallacy  label  category    subcategory  \n",
       "0  Argument from Silence      1  informal  insufficiency  \n",
       "1  Argument from Silence      1  informal  insufficiency  \n",
       "2  Argument from Silence      1  informal  insufficiency  \n",
       "3  Argument from Silence      1  informal  insufficiency  \n",
       "4  Argument from Silence      1  informal  insufficiency  "
      ]
     },
     "execution_count": 2,
     "metadata": {},
     "output_type": "execute_result"
    }
   ],
   "source": [
    "df_fallacies_e22 = get_fallacy_df('data/fallacies_e22.csv', only_incorrect=True)\n",
    "\n",
    "df_fallacies_e22.head()"
   ]
  },
  {
   "cell_type": "code",
   "execution_count": 3,
   "id": "f179fd003e30dfa7",
   "metadata": {
    "ExecuteTime": {
     "end_time": "2024-10-28T11:48:28.936031Z",
     "start_time": "2024-10-28T11:48:28.915990Z"
    }
   },
   "outputs": [
    {
     "data": {
      "text/plain": [
       "tuning\n",
       "test          1160\n",
       "train          928\n",
       "validation     232\n",
       "Name: count, dtype: int64"
      ]
     },
     "execution_count": 3,
     "metadata": {},
     "output_type": "execute_result"
    }
   ],
   "source": [
    "tuning_train_test_split(df_fallacies_e22, ['fallacy'], n_train=4, n_validation=1)\n",
    "df_fallacies_e22['tuning'].value_counts()\n"
   ]
  },
  {
   "cell_type": "code",
   "execution_count": null,
   "id": "3d4d8a5ecf2edc07",
   "metadata": {},
   "outputs": [],
   "source": [
    "prompt_template = get_classification_prompt_template()\n",
    "system_prompt = 'You are a logical fallacy classifier. Given an incorrect reasoning step, your task is to identify its type of fallacy.'\n",
    "train_examples = get_tuning_examples(df_fallacies_e22, prompt_template, system_prompt, 'fallacy', TuningSet.TRAIN)\n",
    "validation_examples = get_tuning_examples(df_fallacies_e22, prompt_template, system_prompt, 'fallacy', TuningSet.VALIDATION)"
   ]
  },
  {
   "cell_type": "code",
   "execution_count": 4,
   "id": "3de2cb9a2f0ba213",
   "metadata": {
    "ExecuteTime": {
     "end_time": "2024-10-28T11:48:30.193033Z",
     "start_time": "2024-10-28T11:48:30.131162Z"
    }
   },
   "outputs": [],
   "source": [
    "save_tuning_examples(train_examples, 'data/tuning_train_e22.jsonl')\n",
    "save_tuning_examples(validation_examples, 'data/tuning_validation_e22.jsonl')"
   ]
  },
  {
   "cell_type": "code",
   "execution_count": 8,
   "id": "6f722578f2682198",
   "metadata": {
    "ExecuteTime": {
     "end_time": "2024-10-28T11:57:22.690534Z",
     "start_time": "2024-10-28T11:57:18.931493Z"
    }
   },
   "outputs": [],
   "source": [
    "client = OpenAI(api_key=os.getenv(\"OPENAI_API_KEY\"))\n",
    "\n",
    "# Upload the training and validation files to the OpenAI API\n",
    "train_file = client.files.create(file=open(\"data/tuning_train_e22.jsonl\", \"rb\"), purpose=\"fine-tune\")\n",
    "validation_file = client.files.create(file=open(\"data/tuning_validation_e22.jsonl\", \"rb\"), purpose=\"fine-tune\")"
   ]
  },
  {
   "cell_type": "code",
   "execution_count": 13,
   "id": "522414fdd3c2e379",
   "metadata": {
    "ExecuteTime": {
     "end_time": "2024-10-28T13:14:50.402006Z",
     "start_time": "2024-10-28T13:14:50.385906Z"
    }
   },
   "outputs": [
    {
     "name": "stdout",
     "output_type": "stream",
     "text": [
      "Train file ID: file-7SBSFbEnOwrO5x7A31H1Xqmx\n",
      "Validation file ID: file-8Oz10aKtDTKculml3awjF1gz\n"
     ]
    }
   ],
   "source": [
    "print('Train file ID:', train_file.id)\n",
    "print('Validation file ID:',validation_file.id)"
   ]
  },
  {
   "cell_type": "code",
   "execution_count": null,
   "id": "94f491dad2966108",
   "metadata": {},
   "outputs": [],
   "source": [
    "# Fine tune model\n",
    "# fallacy-detection-v1 (gpt-4o-mini): \n",
    "# - n_train=4, n_validation=1 (within fallacy)\n",
    "# - 5,633,052 trained tokens \n",
    "# - Actual cost: $10.90 (much higher than expected)\n",
    "client.fine_tuning.jobs.create(\n",
    "    training_file=train_file.id,\n",
    "    validation_file=validation_file.id,\n",
    "    model=\"gpt-4o-mini-2024-07-18\",\n",
    "    seed=42,\n",
    "    suffix=\"fallacy-detection-v1\"\n",
    ")"
   ]
  },
  {
   "cell_type": "code",
   "execution_count": 14,
   "id": "423fec8f2d0b9bac",
   "metadata": {
    "ExecuteTime": {
     "end_time": "2024-10-28T13:36:20.667563Z",
     "start_time": "2024-10-28T13:36:20.212767Z"
    }
   },
   "outputs": [],
   "source": [
    "save_fallacy_df(df_fallacies_e22, 'data/fallacies_e22.csv')"
   ]
  },
  {
   "cell_type": "code",
   "execution_count": null,
   "id": "f7b3d3d09ecf903c",
   "metadata": {},
   "outputs": [],
   "source": []
  }
 ],
 "metadata": {
  "kernelspec": {
   "display_name": "Python 3",
   "language": "python",
   "name": "python3"
  },
  "language_info": {
   "codemirror_mode": {
    "name": "ipython",
    "version": 2
   },
   "file_extension": ".py",
   "mimetype": "text/x-python",
   "name": "python",
   "nbconvert_exporter": "python",
   "pygments_lexer": "ipython2",
   "version": "2.7.6"
  }
 },
 "nbformat": 4,
 "nbformat_minor": 5
}
