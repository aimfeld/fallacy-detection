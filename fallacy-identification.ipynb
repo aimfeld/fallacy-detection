{
 "cells": [
  {
   "metadata": {
    "ExecuteTime": {
     "end_time": "2024-10-16T09:52:42.735848Z",
     "start_time": "2024-10-16T09:52:42.710638Z"
    }
   },
   "cell_type": "code",
   "source": [
    "%load_ext autoreload\n",
    "%autoreload 2\n",
    "\n",
    "from dotenv import load_dotenv\n",
    "from src.llms import get_llms, init_langchain, LLM_GPT_4, LLM_GPT_4O, LLM_SONNET, LLM_GEMINI, LLM_LLAMA\n",
    "from src.experiment import get_fallacy_identification_df, save_fallacy_identification_df, run_fallacy_identification\n",
    "\n",
    "# Load environment variables from .env file\n",
    "load_dotenv()\n",
    "\n",
    "init_langchain()"
   ],
   "id": "801f0c9f57db9f3c",
   "outputs": [
    {
     "name": "stdout",
     "output_type": "stream",
     "text": [
      "The autoreload extension is already loaded. To reload it, use:\n",
      "  %reload_ext autoreload\n"
     ]
    }
   ],
   "execution_count": 8
  },
  {
   "metadata": {
    "ExecuteTime": {
     "end_time": "2024-10-16T10:13:47.188112Z",
     "start_time": "2024-10-16T10:13:47.149025Z"
    }
   },
   "cell_type": "code",
   "source": [
    "df_fallacies = get_fallacy_identification_df()\n",
    "df_fallacies.head()"
   ],
   "id": "86cb1cc7b84b2c91",
   "outputs": [
    {
     "name": "stdout",
     "output_type": "stream",
     "text": [
      "Loaded existing fallacy identification dataframe from CSV.\n"
     ]
    },
    {
     "data": {
      "text/plain": [
       "                                                step              entity  \\\n",
       "0  Since John asked Maria if she used the last of...               tepas   \n",
       "1  Since Alice asked if Bob knew what an 'ossia' ...               ossia   \n",
       "2  Since Alice claims that the Hausdorff contents...  hausdorff contents   \n",
       "3  Since Tom, a seasoned tugboater, said that ice...          tugboaters   \n",
       "4  Since John accuses Mary of being terrified of ...             beewolf   \n",
       "\n",
       "                 fallacy  label gpt_4_response gpt_4o_response  \n",
       "0  Argument from Silence      1             No             No.  \n",
       "1  Argument from Silence      1             No             No.  \n",
       "2  Argument from Silence      1             No           error  \n",
       "3  Argument from Silence      1                                 \n",
       "4  Argument from Silence      1                                 "
      ],
      "text/html": [
       "<div>\n",
       "<style scoped>\n",
       "    .dataframe tbody tr th:only-of-type {\n",
       "        vertical-align: middle;\n",
       "    }\n",
       "\n",
       "    .dataframe tbody tr th {\n",
       "        vertical-align: top;\n",
       "    }\n",
       "\n",
       "    .dataframe thead th {\n",
       "        text-align: right;\n",
       "    }\n",
       "</style>\n",
       "<table border=\"1\" class=\"dataframe\">\n",
       "  <thead>\n",
       "    <tr style=\"text-align: right;\">\n",
       "      <th></th>\n",
       "      <th>step</th>\n",
       "      <th>entity</th>\n",
       "      <th>fallacy</th>\n",
       "      <th>label</th>\n",
       "      <th>gpt_4_response</th>\n",
       "      <th>gpt_4o_response</th>\n",
       "    </tr>\n",
       "  </thead>\n",
       "  <tbody>\n",
       "    <tr>\n",
       "      <th>0</th>\n",
       "      <td>Since John asked Maria if she used the last of...</td>\n",
       "      <td>tepas</td>\n",
       "      <td>Argument from Silence</td>\n",
       "      <td>1</td>\n",
       "      <td>No</td>\n",
       "      <td>No.</td>\n",
       "    </tr>\n",
       "    <tr>\n",
       "      <th>1</th>\n",
       "      <td>Since Alice asked if Bob knew what an 'ossia' ...</td>\n",
       "      <td>ossia</td>\n",
       "      <td>Argument from Silence</td>\n",
       "      <td>1</td>\n",
       "      <td>No</td>\n",
       "      <td>No.</td>\n",
       "    </tr>\n",
       "    <tr>\n",
       "      <th>2</th>\n",
       "      <td>Since Alice claims that the Hausdorff contents...</td>\n",
       "      <td>hausdorff contents</td>\n",
       "      <td>Argument from Silence</td>\n",
       "      <td>1</td>\n",
       "      <td>No</td>\n",
       "      <td>error</td>\n",
       "    </tr>\n",
       "    <tr>\n",
       "      <th>3</th>\n",
       "      <td>Since Tom, a seasoned tugboater, said that ice...</td>\n",
       "      <td>tugboaters</td>\n",
       "      <td>Argument from Silence</td>\n",
       "      <td>1</td>\n",
       "      <td></td>\n",
       "      <td></td>\n",
       "    </tr>\n",
       "    <tr>\n",
       "      <th>4</th>\n",
       "      <td>Since John accuses Mary of being terrified of ...</td>\n",
       "      <td>beewolf</td>\n",
       "      <td>Argument from Silence</td>\n",
       "      <td>1</td>\n",
       "      <td></td>\n",
       "      <td></td>\n",
       "    </tr>\n",
       "  </tbody>\n",
       "</table>\n",
       "</div>"
      ]
     },
     "execution_count": 19,
     "metadata": {},
     "output_type": "execute_result"
    }
   ],
   "execution_count": 19
  },
  {
   "metadata": {
    "ExecuteTime": {
     "end_time": "2024-10-16T10:14:13.390625Z",
     "start_time": "2024-10-16T10:14:10.390105Z"
    }
   },
   "cell_type": "code",
   "source": [
    "# llms = get_llms([LLM_GPT_4, LLM_GPT_4O])\n",
    "llms = get_llms([LLM_GPT_4O])\n",
    "\n",
    "run_fallacy_identification(df_fallacies, llms)\n",
    "\n",
    "save_fallacy_identification_df(df_fallacies)\n",
    "# prompt = f\"Is the following reasoning step correct? You can only answer \\\"Yes\\\" or \\\"No\\\".\\n{remove_square_brackets(reasoning_step)}\"\n"
   ],
   "id": "b99e69538350883",
   "outputs": [
    {
     "name": "stdout",
     "output_type": "stream",
     "text": [
      "Prompting LLM gpt_4o: Is the following reasoning step correct? You can only answer \"Yes\" or \"No\".\n",
      "Since Alice claims that the Hausdorff contents can be used to measure the size of a fractal and Bob remains silent when asked about his opinion, therefore, the Hausdorff contents must indeed be used to measure the size of a fractal.\n",
      "Prompting LLM gpt_4o: Is the following reasoning step correct? You can only answer \"Yes\" or \"No\".\n",
      "Since Tom, a seasoned tugboater, said that iceberg collisions are a significant risk for tugboaters and no one else provided any counter-argument, therefore, it must be true that iceberg collisions are a significant risk for tugboaters.\n",
      "Breaking early for testing purposes.\n",
      "Prompting LLM sonnet: Is the following reasoning step correct? You can only answer \"Yes\" or \"No\".\n",
      "Since John asked Maria if she used the last of the tepas and she remained silent, therefore, Maria must have used the last of the tepas.\n",
      "Prompting LLM sonnet: Is the following reasoning step correct? You can only answer \"Yes\" or \"No\".\n",
      "Since Alice asked if Bob knew what an 'ossia' was in a musical score and Bob remained silent, therefore, Bob must surely be knowledgeable about 'ossia' and its use in music.\n",
      "Prompting LLM sonnet: Is the following reasoning step correct? You can only answer \"Yes\" or \"No\".\n",
      "Since Alice claims that the Hausdorff contents can be used to measure the size of a fractal and Bob remains silent when asked about his opinion, therefore, the Hausdorff contents must indeed be used to measure the size of a fractal.\n",
      "Prompting LLM sonnet: Is the following reasoning step correct? You can only answer \"Yes\" or \"No\".\n",
      "Since Tom, a seasoned tugboater, said that iceberg collisions are a significant risk for tugboaters and no one else provided any counter-argument, therefore, it must be true that iceberg collisions are a significant risk for tugboaters.\n",
      "Breaking early for testing purposes.\n",
      "Saved fallacy identification dataframe to CSV.\n"
     ]
    }
   ],
   "execution_count": 20
  },
  {
   "metadata": {
    "ExecuteTime": {
     "end_time": "2024-10-16T10:14:20.525354Z",
     "start_time": "2024-10-16T10:14:20.499204Z"
    }
   },
   "cell_type": "code",
   "source": "df_fallacies.head()",
   "id": "d971e94c8e05d198",
   "outputs": [
    {
     "data": {
      "text/plain": [
       "                                                step              entity  \\\n",
       "0  Since John asked Maria if she used the last of...               tepas   \n",
       "1  Since Alice asked if Bob knew what an 'ossia' ...               ossia   \n",
       "2  Since Alice claims that the Hausdorff contents...  hausdorff contents   \n",
       "3  Since Tom, a seasoned tugboater, said that ice...          tugboaters   \n",
       "4  Since John accuses Mary of being terrified of ...             beewolf   \n",
       "\n",
       "                 fallacy  label gpt_4_response gpt_4o_response sonnet_response  \n",
       "0  Argument from Silence      1             No             No.              No  \n",
       "1  Argument from Silence      1             No             No.              No  \n",
       "2  Argument from Silence      1             No             No.              No  \n",
       "3  Argument from Silence      1                            No.              No  \n",
       "4  Argument from Silence      1                                                 "
      ],
      "text/html": [
       "<div>\n",
       "<style scoped>\n",
       "    .dataframe tbody tr th:only-of-type {\n",
       "        vertical-align: middle;\n",
       "    }\n",
       "\n",
       "    .dataframe tbody tr th {\n",
       "        vertical-align: top;\n",
       "    }\n",
       "\n",
       "    .dataframe thead th {\n",
       "        text-align: right;\n",
       "    }\n",
       "</style>\n",
       "<table border=\"1\" class=\"dataframe\">\n",
       "  <thead>\n",
       "    <tr style=\"text-align: right;\">\n",
       "      <th></th>\n",
       "      <th>step</th>\n",
       "      <th>entity</th>\n",
       "      <th>fallacy</th>\n",
       "      <th>label</th>\n",
       "      <th>gpt_4_response</th>\n",
       "      <th>gpt_4o_response</th>\n",
       "      <th>sonnet_response</th>\n",
       "    </tr>\n",
       "  </thead>\n",
       "  <tbody>\n",
       "    <tr>\n",
       "      <th>0</th>\n",
       "      <td>Since John asked Maria if she used the last of...</td>\n",
       "      <td>tepas</td>\n",
       "      <td>Argument from Silence</td>\n",
       "      <td>1</td>\n",
       "      <td>No</td>\n",
       "      <td>No.</td>\n",
       "      <td>No</td>\n",
       "    </tr>\n",
       "    <tr>\n",
       "      <th>1</th>\n",
       "      <td>Since Alice asked if Bob knew what an 'ossia' ...</td>\n",
       "      <td>ossia</td>\n",
       "      <td>Argument from Silence</td>\n",
       "      <td>1</td>\n",
       "      <td>No</td>\n",
       "      <td>No.</td>\n",
       "      <td>No</td>\n",
       "    </tr>\n",
       "    <tr>\n",
       "      <th>2</th>\n",
       "      <td>Since Alice claims that the Hausdorff contents...</td>\n",
       "      <td>hausdorff contents</td>\n",
       "      <td>Argument from Silence</td>\n",
       "      <td>1</td>\n",
       "      <td>No</td>\n",
       "      <td>No.</td>\n",
       "      <td>No</td>\n",
       "    </tr>\n",
       "    <tr>\n",
       "      <th>3</th>\n",
       "      <td>Since Tom, a seasoned tugboater, said that ice...</td>\n",
       "      <td>tugboaters</td>\n",
       "      <td>Argument from Silence</td>\n",
       "      <td>1</td>\n",
       "      <td></td>\n",
       "      <td>No.</td>\n",
       "      <td>No</td>\n",
       "    </tr>\n",
       "    <tr>\n",
       "      <th>4</th>\n",
       "      <td>Since John accuses Mary of being terrified of ...</td>\n",
       "      <td>beewolf</td>\n",
       "      <td>Argument from Silence</td>\n",
       "      <td>1</td>\n",
       "      <td></td>\n",
       "      <td></td>\n",
       "      <td></td>\n",
       "    </tr>\n",
       "  </tbody>\n",
       "</table>\n",
       "</div>"
      ]
     },
     "execution_count": 21,
     "metadata": {},
     "output_type": "execute_result"
    }
   ],
   "execution_count": 21
  },
  {
   "metadata": {},
   "cell_type": "code",
   "outputs": [],
   "execution_count": null,
   "source": "",
   "id": "de40b4ab0c628b12"
  }
 ],
 "metadata": {
  "kernelspec": {
   "display_name": "Python 3",
   "language": "python",
   "name": "python3"
  },
  "language_info": {
   "codemirror_mode": {
    "name": "ipython",
    "version": 2
   },
   "file_extension": ".py",
   "mimetype": "text/x-python",
   "name": "python",
   "nbconvert_exporter": "python",
   "pygments_lexer": "ipython2",
   "version": "2.7.6"
  }
 },
 "nbformat": 4,
 "nbformat_minor": 5
}
