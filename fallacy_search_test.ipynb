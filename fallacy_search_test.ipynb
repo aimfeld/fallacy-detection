{
 "cells": [
  {
   "cell_type": "code",
   "id": "initial_id",
   "metadata": {
    "collapsed": true,
    "ExecuteTime": {
     "end_time": "2024-11-17T13:23:58.476719Z",
     "start_time": "2024-11-17T13:23:57.779818Z"
    }
   },
   "source": [
    "%load_ext autoreload\n",
    "%autoreload 2\n",
    "\n",
    "from dotenv import load_dotenv\n",
    "from src.search import get_search_system_prompt, fallacy_search, pretty_print_fallacies\n",
    "\n",
    "# Load environment variables from .env file\n",
    "load_dotenv()"
   ],
   "outputs": [
    {
     "data": {
      "text/plain": [
       "True"
      ]
     },
     "execution_count": 1,
     "metadata": {},
     "output_type": "execute_result"
    }
   ],
   "execution_count": 1
  },
  {
   "metadata": {
    "ExecuteTime": {
     "end_time": "2024-11-17T13:23:58.512155Z",
     "start_time": "2024-11-17T13:23:58.495505Z"
    }
   },
   "cell_type": "code",
   "source": [
    "system_prompt = get_search_system_prompt(restrict_fallacies=True)\n",
    "print(system_prompt)"
   ],
   "id": "128844cc690df466",
   "outputs": [
    {
     "name": "stdout",
     "output_type": "stream",
     "text": [
      "You are an expert at detecting and analyzing logical fallacies. Your task is to detect and analyze logical fallacies in the provided text with high precision. \n",
      "\n",
      "Output Format:\n",
      "Provide your analysis in JSON format with the following structure for each identified fallacy:\n",
      "{\n",
      "  \"fallacies\": [\n",
      "    {\n",
      "      \"fallacy\": \"<fallacy_type>\",\n",
      "      \"span\": \"<exact_text>\",\n",
      "      \"reason\": \"<explanation>\",\n",
      "      \"defense\": \"<counter_argument>\",\n",
      "      \"confidence\": <0.0-1.0>\n",
      "    }\n",
      "  ]\n",
      "}\n",
      "\n",
      "Guidelines:\n",
      "1. Fallacy Types: Only use fallacies from this approved list: Appeal to Anger, Appeal to Fear, Appeal to Pity, Appeal to Positive Emotion, Appeal to Ridicule, Appeal to Worse Problems, Causal Oversimplification, Circular Reasoning, Equivocation, Fallacy of Division, False Analogy, False Causality, False Dilemma, Hasty Generalization, Slippery Slope, Strawman Fallacy, Ad Hominem, Ad Populum, Appeal to Authority, Appeal to Nature, Appeal to Tradition, Guilt by Association, Tu Quoque\n",
      "2. Text Spans:\n",
      "   - Include the complete context needed to understand the fallacy, but keep the span as short as possible\n",
      "   - Can overlap with other identified fallacies\n",
      "   - Must be verbatim quotes from the original text\n",
      "3. Reasoning:\n",
      "   - Provide clear, specific explanations\n",
      "   - Include both why it qualifies as a fallacy and how it violates logical reasoning\n",
      "4. Defense:\n",
      "   - Provide the strongest possible charitable interpretation under the assumption that the argument is valid or reasonable, and not a fallacy\n",
      "   - Consider implicit premises that could validate the argument\n",
      "5. Confidence Score:\n",
      "   - Rate your confidence in each fallacy identification from 0.0 to 1.0, taking into account the reasoning and defense\n",
      "\n",
      "Principles:\n",
      "- Think step by step\n",
      "- Be very thorough and include all potential fallacies in the provided text\n",
      "- Adjust confidence scores downward in proportion to the strength and plausibility of the defense\n",
      "- Consider context and implicit assumptions\n",
      "- Return an empty list if no clear logical fallacies are present\n",
      "\n"
     ]
    }
   ],
   "execution_count": 2
  },
  {
   "metadata": {
    "ExecuteTime": {
     "end_time": "2024-11-17T13:40:29.316144Z",
     "start_time": "2024-11-17T13:40:21.636644Z"
    }
   },
   "cell_type": "code",
   "source": [
    "# https://theness.com/neurologicablog/the-mind-of-egnor/\n",
    "# https://evolutionnews.org/2008/11/the_mind_and_materialist_super/#more\n",
    "text = \"\"\"The Mind and Materialist Superstition\n",
    "Michael Egnor\n",
    "November 26, 2008, 8:49 AM\n",
    "\n",
    "Materialism\n",
    "Philosophy. The theory that physical matter is the only reality and that everything, including thought, feeling, mind, and will, can be explained in terms of matter and physical phenomena.\n",
    "\n",
    "Superstition\n",
    "1 a: a belief or practice resulting from ignorance, fear of the unknown, trust in magic or chance, or a false conception of causation\n",
    "b: an irrational abject attitude of mind toward the supernatural, nature, or God resulting from superstition\n",
    "2: a notion maintained despite evidence to the contrary\n",
    "\n",
    "Mind\n",
    "(in a human or other conscious being) The element, part, substance, or process that reasons, thinks, feels, wills, perceives, judges.\n",
    "\n",
    "Materialists have taken note of the growing efforts by non-materialist neuroscientists to point out the deep problems with the inference that the brain is entirely the cause of the mind. Materialist neuroscience, like materialist evolutionary biology, is a vacuous orthodoxy, and its proponents resent threats to their dogma. Darwinian explanations for functional biological complexity are nonsense, but some familiarity with the relevant science is necessary to understand that it is nonsense.\n",
    "\n",
    "Materialist explanations for the mind are transparent nonsense.\n",
    "\n",
    "Consider the six characteristics of the mind, generally accepted by materialist and non-materialist scientists and philosophers. Each of the six poses enormous problems for a materialistic explanation:\n",
    "\n",
    "\n",
    "Intentionality\n",
    "Intentionality is the “aboutness” or meaning of a mental state, the ability of a mental state to refer to something outside of itself. Ink on paper has no meaning unless it is conferred by a mind, which wrote it or read it. Matter may have intentionality only secondarily (“derived intentionality”). The problem of intentionality is believed by many philosophers of the mind to be the most serious challenge to materialism. “Meaning” is imparted to matter by a mind; matter isn’t the source of meaning. Therefore matter (brain tissue) can’t be the entire cause of the mind.\n",
    "\n",
    "Qualia\n",
    "Qualia is subjective experience, which is first person ontology. You can describe pain, using science or literature or whatever. But the experience of pain is something qualitatively different. There is nothing in science which infers subjectivity — no “Newton’s Fourth Law” by which objective matter produces subjective experience. No material law or principle invokes subjectivity, yet subjectivity is the hallmark of the mind.\n",
    "\n",
    "Persistence of Self-Identity\n",
    "We are the same person throughout our lives, despite a continual turn-over of matter in our brains. The matter that constitutes your brain today is different matter, for the most part, than the matter that constituted your brain ten years ago. Furthermore, your brain matter is organized differently now than it was ten years ago. Yet your sense of identity, which is a fundamental characteristic of minds, is continuous over time. You are you, despite profound changes in brain matter and organization. What property then is the “same” that accounts for you being the same? It’s not matter and it’s not organization of matter. Hume thought that the sense of personal continuity was the result of a continuous string of memories, but his theory begs the question. Who is it that has the string of memories? Continuity of self is a prerequisite for a string of memories, so it can’t be the result of a string of memories. Persistence of self-identity through time can’t be explained materialistically; the most reasonable explanation is that there is an immaterial component of the mind that is continuous over time.\n",
    "\n",
    "Restricted Access\n",
    "Restricted access means that I, and only I, experience my thoughts first-hand. I can choose to describe them to others, and others may be able to explain better than I some of the ramifications of my thoughts, but only I experience them. Even a lie-detector machine or a functional MRI doesn’t permit other people to experience my thoughts; they are merely material expressions of my brain activity, akin to speech. This is entirely unlike matter. I know the brain anatomy (matter) of my patients much better (usually) than they do. I know what their brains look like, whereas they have never actually seen them. Yet I have no first-hand experience of their thoughts, no matter how well I know their brain. We each have absolute restricted access to the experience of our own thoughts. Matter does not have this property, and therefore matter cannot be the entire cause of our thoughts.\n",
    "\n",
    "Incorrigibility\n",
    "Incorrigibility, which is related to restricted access, means the unassailable knowledge of one’s own thoughts. If I am thinking of the color red, no one can credibly refute that fact. Of course, I may be lying about what I am thinking, or I may be mistaken about the implications of my thoughts, but I experience my thoughts in a way that no one else does. If I say (honestly) that I like impressionist painting, it is nonsensical for someone else to assert, “You are mistaken; you don’t like impressionist painting.” This incorrigibility isn’t a property of matter. I can hold an honest opinion that the hippocampus is in the parietal lobe (it isn’t; it’s in the temporal lobe). My interlocutor can point out that I am incorrect about the material issue (where the hippocampus is located), but he can’t plausibly argue that I’m wrong that I hold that opinion. Incorrigibility is a property of mind, but not matter.\n",
    "\n",
    "Free Will\n",
    "If the mind is entirely caused by matter, it is difficult to understand how free will can exist. Matter is governed by fixed laws, and if our thoughts are entirely the product of brain chemistry, then our thoughts are determined by brain chemistry. But chemistry doesn’t have “truth” or “falsehood,” or any other values for that matter. It just is. Enzymatic catalysis isn’t true or false, it just is. In fact, the view that “materialism is true” is meaningless… if materialism is true. If materialism is true, than the thought “materialism is true” is just a chemical reaction, neither true nor false. While there are some philosophers who assert that free will can exist in a deterministic materialistic world (they’re called “compatibilists”), and some have argued that quantum indeterminacy may leave room for free will, the most parsimonious explanation for free will is that there is an immaterial component of the mind that is undetermined by matter.\n",
    "\n",
    "So is the materialist inference that the mind is caused entirely by the brain plausible? Please note that materialism has failed to offer any explanation for any of the six salient characteristics of the mind. Not a single salient characteristic of the mind is a property of matter. The strict materialistic explanation for the mind — the attribution of immaterial mental acts and properties to brain matter — is, by definition, a materialist superstition, a “false irrational conception of causation in nature maintained despite evidence to the contrary.”\n",
    "\n",
    "Of course, on reflection, we wouldn’t expect neuroscience to have important things to say about the material/immaterial nature of the mind. Neuroscience studies correlations between material events and behaviors, which are third-person objective phenomena; it has provided no explanation for subjective-first person processes, which is the essential quality of the mind. The assertion that neuroscience demonstrates the material nature of the mind is an ideological assertion, a misuse of neuroscience to serve a tenuous materialist agenda.\n",
    "\n",
    "In Wolfgang Pauli’s deathless phrase, the materialist explanation of the mind “isn’t even wrong.” It’s superstitious nonsense. Materialism can’t explain the mind, because the salient characteristics of mental states — intentionality, qualia, persistence of self-identity, restricted access, incorrigibility, and free will — do not admit material explanations.\n",
    "A coherent and meaningful understanding of the mind requires a repudiation of this materialist superstition. Strict materialism offers some insight into behavioral correlations — behavioral arousal is associated with activation of neurons in the brainstem reticular activation system — but materialism offers nothing to explain the subjective properties of mental experience, which constitute the mind as we actually experience it. A genuine understanding of the mind must be open to immaterial causation, because there is nothing in materialist science (or materialist philosophy) that can account for subjective experience.\n",
    "\n",
    "The viewpoint that matter has desires, intentions, and subjective experiences has a long history in human affairs. It was the foundation of Aristotelian natural philosophy — matter fell to the earth because it seemed to “desire” to return to its natural place. The ancient world was haunted with “sentient” inanimate objects — talismans, charms and idols. Children attribute wishes and feelings to stuffed toys. Since the dawn of man we have ascribed sentience and feelings and will to matter, and a salient triumph of modern science has been to expunge this attribution of subjectivity to matter. The work of physical science is to identify and if possible quantify regularities in the “third person objective existence” of matter. Matter has third person objective existence. The mind, as experienced, has first person subjective existence.\n",
    "\n",
    "Superstition is “a notion maintained despite evidence to the contrary.” The foundation of the scientific revolution is the repudiation of the inference that matter has will, emotions and desires. If there is anything that modern science has demonstrated beyond dispute it is the gulf between objective and subjective ontology — between matter and mind. Yet the materialist superstition isn’t completely gone. It persists in its modern scientific manifestation — the inference that the mind is entirely caused by the brain — which is a superstition.\n",
    "\"\"\"\n",
    "\n",
    "fallacy_response = fallacy_search(text, restrict_fallacies=True)"
   ],
   "id": "ab0f63148ba729cf",
   "outputs": [],
   "execution_count": 7
  },
  {
   "metadata": {
    "ExecuteTime": {
     "end_time": "2024-11-17T13:24:06.056371Z",
     "start_time": "2024-11-17T13:24:06.038568Z"
    }
   },
   "cell_type": "code",
   "source": "pretty_print_fallacies(fallacy_response)",
   "id": "416684287be52b72",
   "outputs": [
    {
     "name": "stdout",
     "output_type": "stream",
     "text": [
      "[\n",
      "  {\n",
      "    \"fallacy\": \"Strawman Fallacy\",\n",
      "    \"span\": \"Materialist neuroscience, like materialist evolutionary biology, is a vacuous orthodoxy, and its proponents resent threats to their dogma. Darwinian explanations for functional biological complexity are nonsense, but some familiarity with the relevant science is necessary to understand that it is nonsense.\",\n",
      "    \"reason\": \"The author misrepresents materialist neuroscience and evolutionary biology as 'vacuous orthodoxy' and 'nonsense,' which oversimplifies and distorts these scientific fields. This misrepresentation makes it easier to attack these positions without engaging with their actual claims and evidence.\",\n",
      "    \"defense\": \"The author might be emphasizing the need for critical examination of scientific theories and encouraging open debate, rather than dismissing them outright.\",\n",
      "    \"confidence\": 0.9\n",
      "  },\n",
      "  {\n",
      "    \"fallacy\": \"Appeal to Ridicule\",\n",
      "    \"span\": \"Materialist explanations for the mind are transparent nonsense.\",\n",
      "    \"reason\": \"The author dismisses materialist explanations for the mind as 'transparent nonsense' without providing substantive arguments or evidence, using ridicule to undermine the opposing view rather than engaging with it logically.\",\n",
      "    \"defense\": \"The author may be using hyperbolic language to stress the perceived inadequacy of materialist explanations, assuming the audience is familiar with the detailed arguments elsewhere.\",\n",
      "    \"confidence\": 0.85\n",
      "  },\n",
      "  {\n",
      "    \"fallacy\": \"False Dilemma\",\n",
      "    \"span\": \"Persistence of self-identity through time can’t be explained materialistically; the most reasonable explanation is that there is an immaterial component of the mind that is continuous over time.\",\n",
      "    \"reason\": \"The author presents a false choice between materialistic explanations and the existence of an immaterial component, ignoring other possible explanations or theories that might account for self-identity.\",\n",
      "    \"defense\": \"The author might be focusing on the most prominent theories in the current philosophical debate, assuming that other explanations are less viable or well-supported.\",\n",
      "    \"confidence\": 0.8\n",
      "  },\n",
      "  {\n",
      "    \"fallacy\": \"Appeal to Tradition\",\n",
      "    \"span\": \"The viewpoint that matter has desires, intentions, and subjective experiences has a long history in human affairs. It was the foundation of Aristotelian natural philosophy...\",\n",
      "    \"reason\": \"The author suggests that because the attribution of desires and intentions to matter has a long history, it is therefore valid or worth considering, which is an appeal to tradition.\",\n",
      "    \"defense\": \"The author might be highlighting historical perspectives to show the evolution of thought and to suggest that past ideas could still hold relevance or insight.\",\n",
      "    \"confidence\": 0.75\n",
      "  },\n",
      "  {\n",
      "    \"fallacy\": \"Equivocation\",\n",
      "    \"span\": \"Superstition is “a notion maintained despite evidence to the contrary.” The foundation of the scientific revolution is the repudiation of the inference that matter has will, emotions and desires.\",\n",
      "    \"reason\": \"The author uses the term 'superstition' in a way that conflates its general meaning with a specific critique of materialism, creating an equivocation between different uses of the term.\",\n",
      "    \"defense\": \"The author might be using 'superstition' metaphorically to emphasize the perceived irrationality of materialist claims, rather than literally equating them with traditional superstitions.\",\n",
      "    \"confidence\": 0.7\n",
      "  }\n",
      "]\n"
     ]
    }
   ],
   "execution_count": 4
  },
  {
   "metadata": {
    "ExecuteTime": {
     "end_time": "2024-11-17T13:24:18.995703Z",
     "start_time": "2024-11-17T13:24:06.086333Z"
    }
   },
   "cell_type": "code",
   "source": "unrestricted_fallacy_response = fallacy_search(text, restrict_fallacies=False)",
   "id": "bf288aab93145a2f",
   "outputs": [],
   "execution_count": 5
  },
  {
   "metadata": {
    "ExecuteTime": {
     "end_time": "2024-11-17T13:24:19.018055Z",
     "start_time": "2024-11-17T13:24:19.000815Z"
    }
   },
   "cell_type": "code",
   "source": "pretty_print_fallacies(unrestricted_fallacy_response)",
   "id": "e21391bb49b9415b",
   "outputs": [
    {
     "name": "stdout",
     "output_type": "stream",
     "text": [
      "[\n",
      "  {\n",
      "    \"fallacy\": \"Straw Man\",\n",
      "    \"span\": \"Materialist neuroscience, like materialist evolutionary biology, is a vacuous orthodoxy, and its proponents resent threats to their dogma. Darwinian explanations for functional biological complexity are nonsense, but some familiarity with the relevant science is necessary to understand that it is nonsense.\",\n",
      "    \"reason\": \"The author misrepresents materialist neuroscience and evolutionary biology as 'vacuous orthodoxy' and 'nonsense,' which is a simplification and distortion of these scientific fields. This misrepresentation makes it easier to attack these positions without engaging with their actual claims and evidence.\",\n",
      "    \"defense\": \"The author might be emphasizing the need for critical examination of scientific theories and encouraging open debate, rather than dismissing them entirely.\",\n",
      "    \"confidence\": 0.9\n",
      "  },\n",
      "  {\n",
      "    \"fallacy\": \"Begging the Question\",\n",
      "    \"span\": \"Persistence of self-identity through time can’t be explained materialistically; the most reasonable explanation is that there is an immaterial component of the mind that is continuous over time.\",\n",
      "    \"reason\": \"The argument assumes what it is trying to prove: that an immaterial component is necessary for self-identity. It does not provide independent evidence for the existence of such an immaterial component, thus presupposing its conclusion.\",\n",
      "    \"defense\": \"The author might be suggesting that current materialistic explanations are insufficient, and thus an immaterial explanation is a plausible alternative worth considering.\",\n",
      "    \"confidence\": 0.85\n",
      "  },\n",
      "  {\n",
      "    \"fallacy\": \"False Dichotomy\",\n",
      "    \"span\": \"A coherent and meaningful understanding of the mind requires a repudiation of this materialist superstition.\",\n",
      "    \"reason\": \"The author presents the issue as a choice between materialism and non-materialism, ignoring the possibility of other explanations or a synthesis of both views. This oversimplifies the complex debate about the nature of the mind.\",\n",
      "    \"defense\": \"The author could be emphasizing the need to consider non-materialist perspectives as part of a broader understanding of the mind, rather than excluding materialism entirely.\",\n",
      "    \"confidence\": 0.8\n",
      "  },\n",
      "  {\n",
      "    \"fallacy\": \"Appeal to Tradition\",\n",
      "    \"span\": \"The viewpoint that matter has desires, intentions, and subjective experiences has a long history in human affairs. It was the foundation of Aristotelian natural philosophy...\",\n",
      "    \"reason\": \"The argument suggests that because the attribution of desires and intentions to matter has a long history, it is therefore incorrect. This appeal to tradition does not address the validity of current scientific understandings.\",\n",
      "    \"defense\": \"The author might be using historical context to illustrate how scientific understanding has evolved, rather than arguing that historical views are inherently incorrect.\",\n",
      "    \"confidence\": 0.75\n",
      "  },\n",
      "  {\n",
      "    \"fallacy\": \"Equivocation\",\n",
      "    \"span\": \"Superstition is “a notion maintained despite evidence to the contrary.” The foundation of the scientific revolution is the repudiation of the inference that matter has will, emotions and desires.\",\n",
      "    \"reason\": \"The author uses the term 'superstition' in a way that conflates its common meaning with a specific philosophical critique of materialism, which may not align with the scientific use of the term. This shifts the meaning of 'superstition' to suit the argument against materialism.\",\n",
      "    \"defense\": \"The author might be using 'superstition' metaphorically to critique what they see as an uncritical acceptance of materialism, rather than equating it directly with traditional superstitions.\",\n",
      "    \"confidence\": 0.7\n",
      "  }\n",
      "]\n"
     ]
    }
   ],
   "execution_count": 6
  },
  {
   "metadata": {
    "ExecuteTime": {
     "end_time": "2024-11-17T13:24:19.049518Z",
     "start_time": "2024-11-17T13:24:19.045603Z"
    }
   },
   "cell_type": "code",
   "source": "debug = 'debug'",
   "id": "df5a2d8dff80d049",
   "outputs": [],
   "execution_count": null
  }
 ],
 "metadata": {
  "kernelspec": {
   "display_name": "Python 3",
   "language": "python",
   "name": "python3"
  },
  "language_info": {
   "codemirror_mode": {
    "name": "ipython",
    "version": 2
   },
   "file_extension": ".py",
   "mimetype": "text/x-python",
   "name": "python",
   "nbconvert_exporter": "python",
   "pygments_lexer": "ipython2",
   "version": "2.7.6"
  }
 },
 "nbformat": 4,
 "nbformat_minor": 5
}
