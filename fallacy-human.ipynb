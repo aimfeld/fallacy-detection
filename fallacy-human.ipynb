{
 "cells": [
  {
   "cell_type": "code",
   "id": "initial_id",
   "metadata": {
    "collapsed": true,
    "ExecuteTime": {
     "end_time": "2024-11-06T11:54:14.114504Z",
     "start_time": "2024-11-06T11:54:13.212810Z"
    }
   },
   "source": [
    "%load_ext autoreload\n",
    "%autoreload 2\n",
    "\n",
    "from src.experiment import get_fallacy_df, RESPONSE_ERROR\n",
    "from src.analysis import get_sanity_check, add_identification_scores\n",
    "import pandas as pd"
   ],
   "outputs": [],
   "execution_count": 1
  },
  {
   "metadata": {},
   "cell_type": "markdown",
   "source": "# Human Benchmark for Fallacy Identification",
   "id": "433b6584ce97678f"
  },
  {
   "metadata": {},
   "cell_type": "markdown",
   "source": "## Create Dataset",
   "id": "e862cfdb0e63d398"
  },
  {
   "metadata": {
    "ExecuteTime": {
     "end_time": "2024-11-06T11:54:14.198501Z",
     "start_time": "2024-11-06T11:54:14.133412Z"
    }
   },
   "cell_type": "code",
   "source": [
    "filename = 'data/fallacies_e1_human_empty.csv'\n",
    "df_fallacies = get_fallacy_df(filename)\n"
   ],
   "id": "bd3d2ea888a1da2c",
   "outputs": [
    {
     "name": "stdout",
     "output_type": "stream",
     "text": [
      "[2024-11-06 12:54:14] Created new fallacy identification dataframe.\n"
     ]
    }
   ],
   "execution_count": 2
  },
  {
   "metadata": {
    "ExecuteTime": {
     "end_time": "2024-11-06T11:54:14.600903Z",
     "start_time": "2024-11-06T11:54:14.230914Z"
    }
   },
   "cell_type": "code",
   "source": [
    "# Randomize order\n",
    "df_fallacies = df_fallacies.sample(frac=1, random_state=42)"
   ],
   "id": "f3fd9e0ed3ea6a7e",
   "outputs": [],
   "execution_count": 3
  },
  {
   "metadata": {
    "ExecuteTime": {
     "end_time": "2024-11-06T11:54:14.628200Z",
     "start_time": "2024-11-06T11:54:14.606882Z"
    }
   },
   "cell_type": "code",
   "source": [
    "# Number the reasoning steps within fallacy type and label, so we can choose how many sets to \n",
    "# respond to and still get a balanced dataset with all fallacy types and 50% correct and incorrect reasoning steps.\n",
    "df_fallacies['set_number'] = df_fallacies.groupby(['fallacy', 'label'], observed=True).cumcount() + 1"
   ],
   "id": "ee05cb55fd9546ee",
   "outputs": [],
   "execution_count": 4
  },
  {
   "metadata": {
    "ExecuteTime": {
     "end_time": "2024-11-06T11:54:14.683603Z",
     "start_time": "2024-11-06T11:54:14.659607Z"
    }
   },
   "cell_type": "code",
   "source": [
    "# Verify that each set contains the same number of 1 and 0 labels\n",
    "df_fallacies.groupby(['set_number'], observed=True)['label'].value_counts()"
   ],
   "id": "c07842cd4108c994",
   "outputs": [
    {
     "data": {
      "text/plain": [
       "set_number  label\n",
       "1           1        232\n",
       "            0        232\n",
       "2           1        232\n",
       "            0        232\n",
       "3           1        232\n",
       "            0        232\n",
       "4           1        232\n",
       "            0        232\n",
       "5           1        232\n",
       "            0        232\n",
       "6           1        232\n",
       "            0        232\n",
       "7           1        232\n",
       "            0        232\n",
       "8           1        232\n",
       "            0        232\n",
       "9           1        232\n",
       "            0        232\n",
       "10          1        232\n",
       "            0        232\n",
       "Name: count, dtype: int64"
      ]
     },
     "execution_count": 5,
     "metadata": {},
     "output_type": "execute_result"
    }
   ],
   "execution_count": 5
  },
  {
   "metadata": {
    "ExecuteTime": {
     "end_time": "2024-11-06T11:54:14.757897Z",
     "start_time": "2024-11-06T11:54:14.735687Z"
    }
   },
   "cell_type": "code",
   "source": [
    "# Verify that each set contains all fallacy types\n",
    "df_fallacies.groupby(['set_number'], observed=True)['fallacy'].nunique()"
   ],
   "id": "a73440fad6a8b01e",
   "outputs": [
    {
     "data": {
      "text/plain": [
       "set_number\n",
       "1     232\n",
       "2     232\n",
       "3     232\n",
       "4     232\n",
       "5     232\n",
       "6     232\n",
       "7     232\n",
       "8     232\n",
       "9     232\n",
       "10    232\n",
       "Name: fallacy, dtype: int64"
      ]
     },
     "execution_count": 6,
     "metadata": {},
     "output_type": "execute_result"
    }
   ],
   "execution_count": 6
  },
  {
   "metadata": {
    "ExecuteTime": {
     "end_time": "2024-11-06T11:54:14.811987Z",
     "start_time": "2024-11-06T11:54:14.790411Z"
    }
   },
   "cell_type": "code",
   "source": [
    "# Entities are diverse within each set due to random order\n",
    "df_fallacies.groupby(['set_number'], observed=True)['entity'].nunique()"
   ],
   "id": "dbf7f08c49f24ff9",
   "outputs": [
    {
     "data": {
      "text/plain": [
       "set_number\n",
       "1     436\n",
       "2     450\n",
       "3     446\n",
       "4     433\n",
       "5     440\n",
       "6     435\n",
       "7     442\n",
       "8     440\n",
       "9     439\n",
       "10    442\n",
       "Name: entity, dtype: int64"
      ]
     },
     "execution_count": 7,
     "metadata": {},
     "output_type": "execute_result"
    }
   ],
   "execution_count": 7
  },
  {
   "metadata": {
    "ExecuteTime": {
     "end_time": "2024-11-06T11:55:09.182015Z",
     "start_time": "2024-11-06T11:55:09.162412Z"
    }
   },
   "cell_type": "code",
   "source": [
    "# Select only the columns we need, so the test is blinded\n",
    "df_fallacies = df_fallacies[['step', 'category', 'subcategory', 'set_number']]"
   ],
   "id": "534cd56c3df96cc6",
   "outputs": [],
   "execution_count": 8
  },
  {
   "metadata": {
    "ExecuteTime": {
     "end_time": "2024-11-06T11:55:09.738686Z",
     "start_time": "2024-11-06T11:55:09.701277Z"
    }
   },
   "cell_type": "code",
   "source": [
    "# Keep index so we can join back to the original dataset\n",
    "df_fallacies.to_csv(filename, index=True, index_label='index')"
   ],
   "id": "7fd2e7a2b01de7db",
   "outputs": [],
   "execution_count": 9
  },
  {
   "metadata": {},
   "cell_type": "markdown",
   "source": "### Scoring and Sanity Check",
   "id": "70c06aca4d50c66f"
  },
  {
   "metadata": {
    "ExecuteTime": {
     "end_time": "2024-11-06T12:01:59.423513Z",
     "start_time": "2024-11-06T12:01:59.367712Z"
    }
   },
   "cell_type": "code",
   "source": [
    "df_fallacies_e1 = get_fallacy_df('data/fallacies_e1.csv')\n",
    "\n",
    "# o1-preview was aborted due to high cost\n",
    "df_fallacies_e1 = df_fallacies_e1.drop(columns='o1_preview_response')\n",
    "df_fallancies_e1_human = pd.read_csv('data/fallacies_e1_human.csv')\n",
    "df_fallancies_e1_human = df_fallancies_e1_human.set_index('index').fillna('')"
   ],
   "id": "bc98080881add2ae",
   "outputs": [
    {
     "name": "stdout",
     "output_type": "stream",
     "text": [
      "[2024-11-06 13:01:59] Loaded existing fallacy dataframe from data/fallacies_e1.csv.\n"
     ]
    }
   ],
   "execution_count": 10
  },
  {
   "metadata": {
    "ExecuteTime": {
     "end_time": "2024-11-06T12:02:00.007637Z",
     "start_time": "2024-11-06T12:01:59.984939Z"
    }
   },
   "cell_type": "code",
   "source": [
    "# Join based on index\n",
    "drop_columns = ['step', 'category', 'subcategory', 'set_number']\n",
    "df_fallacies_e1 = df_fallacies_e1.join(df_fallancies_e1_human.drop(columns=drop_columns))"
   ],
   "id": "5c85c55df6b4a33d",
   "outputs": [],
   "execution_count": 11
  },
  {
   "metadata": {
    "ExecuteTime": {
     "end_time": "2024-11-06T12:02:01.373112Z",
     "start_time": "2024-11-06T12:02:01.022797Z"
    }
   },
   "cell_type": "code",
   "source": "add_identification_scores(df_fallacies_e1, punish_missing=False)",
   "id": "9770c69ba93e08c8",
   "outputs": [],
   "execution_count": 12
  },
  {
   "metadata": {
    "ExecuteTime": {
     "end_time": "2024-11-06T12:02:01.526531Z",
     "start_time": "2024-11-06T12:02:01.488910Z"
    }
   },
   "cell_type": "code",
   "source": [
    "# Check completeness of responses, predictions and scores\n",
    "df_fallacies_e1.replace(['', RESPONSE_ERROR], None).info()"
   ],
   "id": "5f9a404b94fd1626",
   "outputs": [
    {
     "name": "stdout",
     "output_type": "stream",
     "text": [
      "<class 'pandas.core.frame.DataFrame'>\n",
      "RangeIndex: 4640 entries, 0 to 4639\n",
      "Data columns (total 52 columns):\n",
      " #   Column                        Non-Null Count  Dtype   \n",
      "---  ------                        --------------  -----   \n",
      " 0   step                          4640 non-null   object  \n",
      " 1   entity                        4640 non-null   object  \n",
      " 2   fallacy                       4640 non-null   category\n",
      " 3   label                         4640 non-null   category\n",
      " 4   category                      4640 non-null   category\n",
      " 5   subcategory                   4640 non-null   category\n",
      " 6   gpt_4o_response               4640 non-null   object  \n",
      " 7   gpt_4_response                4640 non-null   object  \n",
      " 8   gpt_4o_mini_response          4640 non-null   object  \n",
      " 9   claude_3_5_sonnet_response    4640 non-null   object  \n",
      " 10  claude_3_opus_response        4640 non-null   object  \n",
      " 11  claude_3_haiku_response       4640 non-null   object  \n",
      " 12  gemini_1_5_pro_response       4640 non-null   object  \n",
      " 13  gemini_1_5_flash_response     4640 non-null   object  \n",
      " 14  gemini_1_5_flash_8b_response  4640 non-null   object  \n",
      " 15  llama_3_1_70b_response        4640 non-null   object  \n",
      " 16  llama_3_1_8b_response         4640 non-null   object  \n",
      " 17  mistral_large_2_response      4640 non-null   object  \n",
      " 18  mistral_small_2_response      4640 non-null   object  \n",
      " 19  o1_mini_response              4636 non-null   object  \n",
      " 20  adrian_response               91 non-null     object  \n",
      " 21  adrian_comment                28 non-null     object  \n",
      " 22  gpt_4o_pred                   4640 non-null   category\n",
      " 23  gpt_4o_score                  4640 non-null   UInt8   \n",
      " 24  gpt_4_pred                    4640 non-null   category\n",
      " 25  gpt_4_score                   4640 non-null   UInt8   \n",
      " 26  gpt_4o_mini_pred              4640 non-null   category\n",
      " 27  gpt_4o_mini_score             4640 non-null   UInt8   \n",
      " 28  claude_3_5_sonnet_pred        4640 non-null   category\n",
      " 29  claude_3_5_sonnet_score       4640 non-null   UInt8   \n",
      " 30  claude_3_opus_pred            4640 non-null   category\n",
      " 31  claude_3_opus_score           4640 non-null   UInt8   \n",
      " 32  claude_3_haiku_pred           4640 non-null   category\n",
      " 33  claude_3_haiku_score          4640 non-null   UInt8   \n",
      " 34  gemini_1_5_pro_pred           4640 non-null   category\n",
      " 35  gemini_1_5_pro_score          4640 non-null   UInt8   \n",
      " 36  gemini_1_5_flash_pred         4640 non-null   category\n",
      " 37  gemini_1_5_flash_score        4640 non-null   UInt8   \n",
      " 38  gemini_1_5_flash_8b_pred      4640 non-null   category\n",
      " 39  gemini_1_5_flash_8b_score     4640 non-null   UInt8   \n",
      " 40  llama_3_1_70b_pred            4639 non-null   category\n",
      " 41  llama_3_1_70b_score           4639 non-null   UInt8   \n",
      " 42  llama_3_1_8b_pred             4640 non-null   category\n",
      " 43  llama_3_1_8b_score            4640 non-null   UInt8   \n",
      " 44  mistral_large_2_pred          4640 non-null   category\n",
      " 45  mistral_large_2_score         4640 non-null   UInt8   \n",
      " 46  mistral_small_2_pred          4640 non-null   category\n",
      " 47  mistral_small_2_score         4640 non-null   UInt8   \n",
      " 48  o1_mini_pred                  4627 non-null   category\n",
      " 49  o1_mini_score                 4627 non-null   UInt8   \n",
      " 50  adrian_pred                   91 non-null     category\n",
      " 51  adrian_score                  91 non-null     UInt8   \n",
      "dtypes: UInt8(15), category(19), object(18)\n",
      "memory usage: 891.5+ KB\n"
     ]
    }
   ],
   "execution_count": 13
  },
  {
   "metadata": {
    "ExecuteTime": {
     "end_time": "2024-11-06T12:02:02.477153Z",
     "start_time": "2024-11-06T12:02:02.443128Z"
    }
   },
   "cell_type": "code",
   "source": "get_sanity_check(df_fallacies_e1)",
   "id": "b08fc6e4d8eaaf87",
   "outputs": [
    {
     "data": {
      "text/plain": [
       "                     response_length_mean  missing_responses  \\\n",
       "gpt_4o                                3.3                  0   \n",
       "gpt_4                                 2.5                  0   \n",
       "gpt_4o_mini                           3.4                  0   \n",
       "claude_3_5_sonnet                     2.4                  0   \n",
       "claude_3_opus                         3.2                  0   \n",
       "claude_3_haiku                        3.3                  0   \n",
       "gemini_1_5_pro                        2.5                  0   \n",
       "gemini_1_5_flash                      2.4                  0   \n",
       "gemini_1_5_flash_8b                   2.4                  0   \n",
       "llama_3_1_70b                         2.7                  0   \n",
       "llama_3_1_8b                          2.7                  0   \n",
       "mistral_large_2                       3.4                  0   \n",
       "mistral_small_2                       3.6                  0   \n",
       "o1_mini                               2.8                  4   \n",
       "adrian                                0.0               4549   \n",
       "\n",
       "                     invalid_predictions  \n",
       "gpt_4o                                 0  \n",
       "gpt_4                                  0  \n",
       "gpt_4o_mini                            0  \n",
       "claude_3_5_sonnet                      0  \n",
       "claude_3_opus                          0  \n",
       "claude_3_haiku                         0  \n",
       "gemini_1_5_pro                         0  \n",
       "gemini_1_5_flash                       0  \n",
       "gemini_1_5_flash_8b                    0  \n",
       "llama_3_1_70b                          1  \n",
       "llama_3_1_8b                           0  \n",
       "mistral_large_2                        0  \n",
       "mistral_small_2                        0  \n",
       "o1_mini                               13  \n",
       "adrian                              4549  "
      ],
      "text/html": [
       "<div>\n",
       "<style scoped>\n",
       "    .dataframe tbody tr th:only-of-type {\n",
       "        vertical-align: middle;\n",
       "    }\n",
       "\n",
       "    .dataframe tbody tr th {\n",
       "        vertical-align: top;\n",
       "    }\n",
       "\n",
       "    .dataframe thead th {\n",
       "        text-align: right;\n",
       "    }\n",
       "</style>\n",
       "<table border=\"1\" class=\"dataframe\">\n",
       "  <thead>\n",
       "    <tr style=\"text-align: right;\">\n",
       "      <th></th>\n",
       "      <th>response_length_mean</th>\n",
       "      <th>missing_responses</th>\n",
       "      <th>invalid_predictions</th>\n",
       "    </tr>\n",
       "  </thead>\n",
       "  <tbody>\n",
       "    <tr>\n",
       "      <th>gpt_4o</th>\n",
       "      <td>3.3</td>\n",
       "      <td>0</td>\n",
       "      <td>0</td>\n",
       "    </tr>\n",
       "    <tr>\n",
       "      <th>gpt_4</th>\n",
       "      <td>2.5</td>\n",
       "      <td>0</td>\n",
       "      <td>0</td>\n",
       "    </tr>\n",
       "    <tr>\n",
       "      <th>gpt_4o_mini</th>\n",
       "      <td>3.4</td>\n",
       "      <td>0</td>\n",
       "      <td>0</td>\n",
       "    </tr>\n",
       "    <tr>\n",
       "      <th>claude_3_5_sonnet</th>\n",
       "      <td>2.4</td>\n",
       "      <td>0</td>\n",
       "      <td>0</td>\n",
       "    </tr>\n",
       "    <tr>\n",
       "      <th>claude_3_opus</th>\n",
       "      <td>3.2</td>\n",
       "      <td>0</td>\n",
       "      <td>0</td>\n",
       "    </tr>\n",
       "    <tr>\n",
       "      <th>claude_3_haiku</th>\n",
       "      <td>3.3</td>\n",
       "      <td>0</td>\n",
       "      <td>0</td>\n",
       "    </tr>\n",
       "    <tr>\n",
       "      <th>gemini_1_5_pro</th>\n",
       "      <td>2.5</td>\n",
       "      <td>0</td>\n",
       "      <td>0</td>\n",
       "    </tr>\n",
       "    <tr>\n",
       "      <th>gemini_1_5_flash</th>\n",
       "      <td>2.4</td>\n",
       "      <td>0</td>\n",
       "      <td>0</td>\n",
       "    </tr>\n",
       "    <tr>\n",
       "      <th>gemini_1_5_flash_8b</th>\n",
       "      <td>2.4</td>\n",
       "      <td>0</td>\n",
       "      <td>0</td>\n",
       "    </tr>\n",
       "    <tr>\n",
       "      <th>llama_3_1_70b</th>\n",
       "      <td>2.7</td>\n",
       "      <td>0</td>\n",
       "      <td>1</td>\n",
       "    </tr>\n",
       "    <tr>\n",
       "      <th>llama_3_1_8b</th>\n",
       "      <td>2.7</td>\n",
       "      <td>0</td>\n",
       "      <td>0</td>\n",
       "    </tr>\n",
       "    <tr>\n",
       "      <th>mistral_large_2</th>\n",
       "      <td>3.4</td>\n",
       "      <td>0</td>\n",
       "      <td>0</td>\n",
       "    </tr>\n",
       "    <tr>\n",
       "      <th>mistral_small_2</th>\n",
       "      <td>3.6</td>\n",
       "      <td>0</td>\n",
       "      <td>0</td>\n",
       "    </tr>\n",
       "    <tr>\n",
       "      <th>o1_mini</th>\n",
       "      <td>2.8</td>\n",
       "      <td>4</td>\n",
       "      <td>13</td>\n",
       "    </tr>\n",
       "    <tr>\n",
       "      <th>adrian</th>\n",
       "      <td>0.0</td>\n",
       "      <td>4549</td>\n",
       "      <td>4549</td>\n",
       "    </tr>\n",
       "  </tbody>\n",
       "</table>\n",
       "</div>"
      ]
     },
     "execution_count": 14,
     "metadata": {},
     "output_type": "execute_result"
    }
   ],
   "execution_count": 14
  },
  {
   "metadata": {},
   "cell_type": "code",
   "outputs": [],
   "execution_count": null,
   "source": "",
   "id": "582d7bd56602c0fd"
  }
 ],
 "metadata": {
  "kernelspec": {
   "display_name": "Python 3",
   "language": "python",
   "name": "python3"
  },
  "language_info": {
   "codemirror_mode": {
    "name": "ipython",
    "version": 2
   },
   "file_extension": ".py",
   "mimetype": "text/x-python",
   "name": "python",
   "nbconvert_exporter": "python",
   "pygments_lexer": "ipython2",
   "version": "2.7.6"
  }
 },
 "nbformat": 4,
 "nbformat_minor": 5
}
