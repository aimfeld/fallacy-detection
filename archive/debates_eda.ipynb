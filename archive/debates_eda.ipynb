{
 "cells": [
  {
   "metadata": {},
   "cell_type": "markdown",
   "source": "# EDA of the Debates Dataset (IJCAI2022)",
   "id": "782af1e8b7ff58ae"
  },
  {
   "cell_type": "code",
   "id": "593dc68ddaac9018",
   "metadata": {
    "ExecuteTime": {
     "end_time": "2024-11-11T10:39:33.454284Z",
     "start_time": "2024-11-11T10:39:33.452719Z"
    }
   },
   "source": "import pandas as pd",
   "outputs": [],
   "execution_count": 1
  },
  {
   "metadata": {
    "collapsed": true,
    "ExecuteTime": {
     "end_time": "2024-11-11T10:39:33.564061Z",
     "start_time": "2024-11-11T10:39:33.457873Z"
    }
   },
   "cell_type": "code",
   "source": "df_debates = pd.read_csv('datasets/IJCAI2022/merged.csv')",
   "id": "initial_id",
   "outputs": [],
   "execution_count": 2
  },
  {
   "metadata": {
    "ExecuteTime": {
     "end_time": "2024-11-11T10:39:33.600212Z",
     "start_time": "2024-11-11T10:39:33.593907Z"
    }
   },
   "cell_type": "code",
   "source": "df_debates.info()",
   "id": "d57fdfa984283727",
   "outputs": [
    {
     "name": "stdout",
     "output_type": "stream",
     "text": [
      "<class 'pandas.core.frame.DataFrame'>\n",
      "RangeIndex: 2497 entries, 0 to 2496\n",
      "Data columns (total 9 columns):\n",
      " #   Column       Non-Null Count  Dtype \n",
      "---  ------       --------------  ----- \n",
      " 0   FileName     2497 non-null   object\n",
      " 1   Date         2497 non-null   object\n",
      " 2   Dialogue     2497 non-null   object\n",
      " 3   Snippet      2497 non-null   object\n",
      " 4   Fallacy      2497 non-null   object\n",
      " 5   Subcategory  2479 non-null   object\n",
      " 6   CompLabel    2497 non-null   object\n",
      " 7   CompText     2497 non-null   object\n",
      " 8   RelLAbel     1870 non-null   object\n",
      "dtypes: object(9)\n",
      "memory usage: 175.7+ KB\n"
     ]
    }
   ],
   "execution_count": 3
  },
  {
   "metadata": {
    "ExecuteTime": {
     "end_time": "2024-11-11T10:39:33.712914Z",
     "start_time": "2024-11-11T10:39:33.700113Z"
    }
   },
   "cell_type": "code",
   "source": "df_debates.describe().loc[['count', 'unique']]",
   "id": "ac4844ef465c760c",
   "outputs": [
    {
     "data": {
      "text/plain": [
       "       FileName  Date Dialogue Snippet Fallacy Subcategory CompLabel CompText  \\\n",
       "count      2497  2497     2497    2497    2497        2479      2497     2497   \n",
       "unique      280   280      280    1375       6          14         2     2101   \n",
       "\n",
       "       RelLAbel  \n",
       "count      1870  \n",
       "unique        3  "
      ],
      "text/html": [
       "<div>\n",
       "<style scoped>\n",
       "    .dataframe tbody tr th:only-of-type {\n",
       "        vertical-align: middle;\n",
       "    }\n",
       "\n",
       "    .dataframe tbody tr th {\n",
       "        vertical-align: top;\n",
       "    }\n",
       "\n",
       "    .dataframe thead th {\n",
       "        text-align: right;\n",
       "    }\n",
       "</style>\n",
       "<table border=\"1\" class=\"dataframe\">\n",
       "  <thead>\n",
       "    <tr style=\"text-align: right;\">\n",
       "      <th></th>\n",
       "      <th>FileName</th>\n",
       "      <th>Date</th>\n",
       "      <th>Dialogue</th>\n",
       "      <th>Snippet</th>\n",
       "      <th>Fallacy</th>\n",
       "      <th>Subcategory</th>\n",
       "      <th>CompLabel</th>\n",
       "      <th>CompText</th>\n",
       "      <th>RelLAbel</th>\n",
       "    </tr>\n",
       "  </thead>\n",
       "  <tbody>\n",
       "    <tr>\n",
       "      <th>count</th>\n",
       "      <td>2497</td>\n",
       "      <td>2497</td>\n",
       "      <td>2497</td>\n",
       "      <td>2497</td>\n",
       "      <td>2497</td>\n",
       "      <td>2479</td>\n",
       "      <td>2497</td>\n",
       "      <td>2497</td>\n",
       "      <td>1870</td>\n",
       "    </tr>\n",
       "    <tr>\n",
       "      <th>unique</th>\n",
       "      <td>280</td>\n",
       "      <td>280</td>\n",
       "      <td>280</td>\n",
       "      <td>1375</td>\n",
       "      <td>6</td>\n",
       "      <td>14</td>\n",
       "      <td>2</td>\n",
       "      <td>2101</td>\n",
       "      <td>3</td>\n",
       "    </tr>\n",
       "  </tbody>\n",
       "</table>\n",
       "</div>"
      ]
     },
     "execution_count": 4,
     "metadata": {},
     "output_type": "execute_result"
    }
   ],
   "execution_count": 4
  },
  {
   "metadata": {
    "ExecuteTime": {
     "end_time": "2024-11-11T10:39:33.852151Z",
     "start_time": "2024-11-11T10:39:33.848401Z"
    }
   },
   "cell_type": "code",
   "source": "df_debates[['Fallacy', 'Subcategory']].value_counts()",
   "id": "eb4190e072394080",
   "outputs": [
    {
     "data": {
      "text/plain": [
       "Fallacy            Subcategory              \n",
       "AppealtoEmotion    Loaded Language              791\n",
       "                   Flag waving                  279\n",
       "AppealtoAuthority  Without Evidence             225\n",
       "AppealtoEmotion    Appeal to pity               213\n",
       "FalseCause         False cause                  179\n",
       "AppealtoEmotion    Appeal to fear               131\n",
       "Slipperyslope      Slippery slope               116\n",
       "AppealtoAuthority  Appeal to popular opinion    107\n",
       "AdHominem          Circumstantial Ad hominem    102\n",
       "                   Ad hominem                    88\n",
       "AppealtoAuthority  False Authority               83\n",
       "Slogans            Slogan                        78\n",
       "AdHominem          Tu quoque                     61\n",
       "                   Name-Calling, Labeling        26\n",
       "Name: count, dtype: int64"
      ]
     },
     "execution_count": 5,
     "metadata": {},
     "output_type": "execute_result"
    }
   ],
   "execution_count": 5
  },
  {
   "metadata": {
    "ExecuteTime": {
     "end_time": "2024-11-11T10:39:33.899314Z",
     "start_time": "2024-11-11T10:39:33.896157Z"
    }
   },
   "cell_type": "code",
   "source": "df_debates['Subcategory'].value_counts()",
   "id": "59df17fa0d0fcd7b",
   "outputs": [
    {
     "data": {
      "text/plain": [
       "Subcategory\n",
       "Loaded Language              791\n",
       "Flag waving                  279\n",
       "Without Evidence             225\n",
       "Appeal to pity               213\n",
       "False cause                  179\n",
       "Appeal to fear               131\n",
       "Slippery slope               116\n",
       "Appeal to popular opinion    107\n",
       "Circumstantial Ad hominem    102\n",
       "Ad hominem                    88\n",
       "False Authority               83\n",
       "Slogan                        78\n",
       "Tu quoque                     61\n",
       "Name-Calling, Labeling        26\n",
       "Name: count, dtype: int64"
      ]
     },
     "execution_count": 6,
     "metadata": {},
     "output_type": "execute_result"
    }
   ],
   "execution_count": 6
  },
  {
   "metadata": {
    "ExecuteTime": {
     "end_time": "2024-11-11T10:39:33.949934Z",
     "start_time": "2024-11-11T10:39:33.931048Z"
    }
   },
   "cell_type": "code",
   "source": "df_debates['Dialogue'].nunique()",
   "id": "15a06b47cc008ce4",
   "outputs": [
    {
     "data": {
      "text/plain": [
       "280"
      ]
     },
     "execution_count": 7,
     "metadata": {},
     "output_type": "execute_result"
    }
   ],
   "execution_count": 7
  },
  {
   "metadata": {
    "ExecuteTime": {
     "end_time": "2024-11-11T10:39:33.979611Z",
     "start_time": "2024-11-11T10:39:33.977184Z"
    }
   },
   "cell_type": "code",
   "source": "",
   "id": "b48800a0d3be1bf7",
   "outputs": [],
   "execution_count": null
  }
 ],
 "metadata": {
  "kernelspec": {
   "display_name": "Python 3",
   "language": "python",
   "name": "python3"
  },
  "language_info": {
   "codemirror_mode": {
    "name": "ipython",
    "version": 2
   },
   "file_extension": ".py",
   "mimetype": "text/x-python",
   "name": "python",
   "nbconvert_exporter": "python",
   "pygments_lexer": "ipython2",
   "version": "2.7.6"
  }
 },
 "nbformat": 4,
 "nbformat_minor": 5
}
