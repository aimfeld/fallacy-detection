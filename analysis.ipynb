{
 "cells": [
  {
   "cell_type": "code",
   "id": "initial_id",
   "metadata": {
    "collapsed": true,
    "ExecuteTime": {
     "end_time": "2024-10-17T10:49:14.159099Z",
     "start_time": "2024-10-17T10:49:13.148604Z"
    }
   },
   "source": [
    "%load_ext autoreload\n",
    "%autoreload 2\n",
    "\n",
    "import numpy as np\n",
    "from src.experiment import get_fallacy_identification_df\n",
    "from src.analysis import score_fallacy_identification, get_fallacy_identification_scores\n",
    "import seaborn as sns\n",
    "import matplotlib.pyplot as plt\n",
    "\n",
    "sns.set_theme()\n"
   ],
   "outputs": [],
   "execution_count": 1
  },
  {
   "metadata": {},
   "cell_type": "markdown",
   "source": "# Fallacy Identification",
   "id": "ef8c15d3b5440ab9"
  },
  {
   "metadata": {},
   "cell_type": "markdown",
   "source": "## Experiment 1",
   "id": "fd396381a7ed2100"
  },
  {
   "metadata": {
    "ExecuteTime": {
     "end_time": "2024-10-17T10:49:14.894099Z",
     "start_time": "2024-10-17T10:49:14.715011Z"
    }
   },
   "cell_type": "code",
   "source": "df = get_fallacy_identification_df()",
   "id": "16028bbd2b7dd9d",
   "outputs": [
    {
     "name": "stdout",
     "output_type": "stream",
     "text": [
      "[2024-10-17 12:49:14] Loaded existing fallacy identification dataframe from CSV.\n"
     ]
    }
   ],
   "execution_count": 2
  },
  {
   "metadata": {
    "ExecuteTime": {
     "end_time": "2024-10-17T10:49:15.720941Z",
     "start_time": "2024-10-17T10:49:15.610394Z"
    }
   },
   "cell_type": "code",
   "source": [
    "score_fallacy_identification(df)\n",
    "\n",
    "df.head()"
   ],
   "id": "3a32f9dedbd454ce",
   "outputs": [
    {
     "data": {
      "text/plain": [
       "                                                step              entity  \\\n",
       "0  Since John asked Maria if she used the last of...               tepas   \n",
       "1  Since Alice asked if Bob knew what an 'ossia' ...               ossia   \n",
       "2  Since Alice claims that the Hausdorff contents...  hausdorff contents   \n",
       "3  Since Tom, a seasoned tugboater, said that ice...          tugboaters   \n",
       "4  Since John accuses Mary of being terrified of ...             beewolf   \n",
       "\n",
       "                 fallacy  label gpt_4o_response gpt_4_response  \\\n",
       "0  Argument from Silence      1             No.             No   \n",
       "1  Argument from Silence      1             No.             No   \n",
       "2  Argument from Silence      1             No.             No   \n",
       "3  Argument from Silence      1             No.             No   \n",
       "4  Argument from Silence      1             No.             No   \n",
       "\n",
       "  gpt_4o_mini_response sonnet_3_5_response gemini_1_5_pro_response  \\\n",
       "0                  No.                  No                      No   \n",
       "1                  No.                  No                      No   \n",
       "2                  No.                  No                      No   \n",
       "3                  No.                  No                     Yes   \n",
       "4                  No.                  No                      No   \n",
       "\n",
       "  gemini_1_5_flash_response  gpt_4_score  gpt_4o_score  gpt_4o_mini_score  \\\n",
       "0                        No            1             1                  1   \n",
       "1                        No            1             1                  1   \n",
       "2                        No            1             1                  1   \n",
       "3                        No            1             1                  1   \n",
       "4                        No            1             1                  1   \n",
       "\n",
       "   sonnet_3_5_score  gemini_1_5_pro_score  gemini_1_5_flash_score  \n",
       "0                 1                     1                       1  \n",
       "1                 1                     1                       1  \n",
       "2                 1                     1                       1  \n",
       "3                 1                     0                       1  \n",
       "4                 1                     1                       1  "
      ],
      "text/html": [
       "<div>\n",
       "<style scoped>\n",
       "    .dataframe tbody tr th:only-of-type {\n",
       "        vertical-align: middle;\n",
       "    }\n",
       "\n",
       "    .dataframe tbody tr th {\n",
       "        vertical-align: top;\n",
       "    }\n",
       "\n",
       "    .dataframe thead th {\n",
       "        text-align: right;\n",
       "    }\n",
       "</style>\n",
       "<table border=\"1\" class=\"dataframe\">\n",
       "  <thead>\n",
       "    <tr style=\"text-align: right;\">\n",
       "      <th></th>\n",
       "      <th>step</th>\n",
       "      <th>entity</th>\n",
       "      <th>fallacy</th>\n",
       "      <th>label</th>\n",
       "      <th>gpt_4o_response</th>\n",
       "      <th>gpt_4_response</th>\n",
       "      <th>gpt_4o_mini_response</th>\n",
       "      <th>sonnet_3_5_response</th>\n",
       "      <th>gemini_1_5_pro_response</th>\n",
       "      <th>gemini_1_5_flash_response</th>\n",
       "      <th>gpt_4_score</th>\n",
       "      <th>gpt_4o_score</th>\n",
       "      <th>gpt_4o_mini_score</th>\n",
       "      <th>sonnet_3_5_score</th>\n",
       "      <th>gemini_1_5_pro_score</th>\n",
       "      <th>gemini_1_5_flash_score</th>\n",
       "    </tr>\n",
       "  </thead>\n",
       "  <tbody>\n",
       "    <tr>\n",
       "      <th>0</th>\n",
       "      <td>Since John asked Maria if she used the last of...</td>\n",
       "      <td>tepas</td>\n",
       "      <td>Argument from Silence</td>\n",
       "      <td>1</td>\n",
       "      <td>No.</td>\n",
       "      <td>No</td>\n",
       "      <td>No.</td>\n",
       "      <td>No</td>\n",
       "      <td>No</td>\n",
       "      <td>No</td>\n",
       "      <td>1</td>\n",
       "      <td>1</td>\n",
       "      <td>1</td>\n",
       "      <td>1</td>\n",
       "      <td>1</td>\n",
       "      <td>1</td>\n",
       "    </tr>\n",
       "    <tr>\n",
       "      <th>1</th>\n",
       "      <td>Since Alice asked if Bob knew what an 'ossia' ...</td>\n",
       "      <td>ossia</td>\n",
       "      <td>Argument from Silence</td>\n",
       "      <td>1</td>\n",
       "      <td>No.</td>\n",
       "      <td>No</td>\n",
       "      <td>No.</td>\n",
       "      <td>No</td>\n",
       "      <td>No</td>\n",
       "      <td>No</td>\n",
       "      <td>1</td>\n",
       "      <td>1</td>\n",
       "      <td>1</td>\n",
       "      <td>1</td>\n",
       "      <td>1</td>\n",
       "      <td>1</td>\n",
       "    </tr>\n",
       "    <tr>\n",
       "      <th>2</th>\n",
       "      <td>Since Alice claims that the Hausdorff contents...</td>\n",
       "      <td>hausdorff contents</td>\n",
       "      <td>Argument from Silence</td>\n",
       "      <td>1</td>\n",
       "      <td>No.</td>\n",
       "      <td>No</td>\n",
       "      <td>No.</td>\n",
       "      <td>No</td>\n",
       "      <td>No</td>\n",
       "      <td>No</td>\n",
       "      <td>1</td>\n",
       "      <td>1</td>\n",
       "      <td>1</td>\n",
       "      <td>1</td>\n",
       "      <td>1</td>\n",
       "      <td>1</td>\n",
       "    </tr>\n",
       "    <tr>\n",
       "      <th>3</th>\n",
       "      <td>Since Tom, a seasoned tugboater, said that ice...</td>\n",
       "      <td>tugboaters</td>\n",
       "      <td>Argument from Silence</td>\n",
       "      <td>1</td>\n",
       "      <td>No.</td>\n",
       "      <td>No</td>\n",
       "      <td>No.</td>\n",
       "      <td>No</td>\n",
       "      <td>Yes</td>\n",
       "      <td>No</td>\n",
       "      <td>1</td>\n",
       "      <td>1</td>\n",
       "      <td>1</td>\n",
       "      <td>1</td>\n",
       "      <td>0</td>\n",
       "      <td>1</td>\n",
       "    </tr>\n",
       "    <tr>\n",
       "      <th>4</th>\n",
       "      <td>Since John accuses Mary of being terrified of ...</td>\n",
       "      <td>beewolf</td>\n",
       "      <td>Argument from Silence</td>\n",
       "      <td>1</td>\n",
       "      <td>No.</td>\n",
       "      <td>No</td>\n",
       "      <td>No.</td>\n",
       "      <td>No</td>\n",
       "      <td>No</td>\n",
       "      <td>No</td>\n",
       "      <td>1</td>\n",
       "      <td>1</td>\n",
       "      <td>1</td>\n",
       "      <td>1</td>\n",
       "      <td>1</td>\n",
       "      <td>1</td>\n",
       "    </tr>\n",
       "  </tbody>\n",
       "</table>\n",
       "</div>"
      ]
     },
     "execution_count": 3,
     "metadata": {},
     "output_type": "execute_result"
    }
   ],
   "execution_count": 3
  },
  {
   "metadata": {
    "ExecuteTime": {
     "end_time": "2024-10-17T10:49:16.554444Z",
     "start_time": "2024-10-17T10:49:16.529096Z"
    }
   },
   "cell_type": "code",
   "source": "df.info()",
   "id": "e9d94376ab8e85b3",
   "outputs": [
    {
     "name": "stdout",
     "output_type": "stream",
     "text": [
      "<class 'pandas.core.frame.DataFrame'>\n",
      "RangeIndex: 4640 entries, 0 to 4639\n",
      "Data columns (total 16 columns):\n",
      " #   Column                     Non-Null Count  Dtype \n",
      "---  ------                     --------------  ----- \n",
      " 0   step                       4640 non-null   object\n",
      " 1   entity                     4640 non-null   object\n",
      " 2   fallacy                    4640 non-null   object\n",
      " 3   label                      4640 non-null   int64 \n",
      " 4   gpt_4o_response            4640 non-null   object\n",
      " 5   gpt_4_response             4640 non-null   object\n",
      " 6   gpt_4o_mini_response       4640 non-null   object\n",
      " 7   sonnet_3_5_response        4640 non-null   object\n",
      " 8   gemini_1_5_pro_response    4640 non-null   object\n",
      " 9   gemini_1_5_flash_response  4640 non-null   object\n",
      " 10  gpt_4_score                4640 non-null   Int64 \n",
      " 11  gpt_4o_score               4640 non-null   Int64 \n",
      " 12  gpt_4o_mini_score          4640 non-null   Int64 \n",
      " 13  sonnet_3_5_score           4640 non-null   Int64 \n",
      " 14  gemini_1_5_pro_score       4640 non-null   Int64 \n",
      " 15  gemini_1_5_flash_score     4640 non-null   Int64 \n",
      "dtypes: Int64(6), int64(1), object(9)\n",
      "memory usage: 607.3+ KB\n"
     ]
    }
   ],
   "execution_count": 4
  },
  {
   "metadata": {
    "ExecuteTime": {
     "end_time": "2024-10-17T10:53:18.398759Z",
     "start_time": "2024-10-17T10:53:18.091226Z"
    }
   },
   "cell_type": "code",
   "source": [
    "df_scores = get_fallacy_identification_scores(df)\n",
    "df_scores = df_scores.sort_values('Score', ascending=False)\n",
    "df_scores"
   ],
   "id": "1003a308f76932ac",
   "outputs": [
    {
     "data": {
      "text/plain": [
       "                 LLM  Score\n",
       "0              GPT-4   89.8\n",
       "4     Gemini 1.5 Pro   88.7\n",
       "1             GPT-4o   88.4\n",
       "2        GPT-4o Mini   86.9\n",
       "3  Claude Sonnet 3.5   83.6\n",
       "5   Gemini 1.5 Flash   83.2"
      ],
      "text/html": [
       "<div>\n",
       "<style scoped>\n",
       "    .dataframe tbody tr th:only-of-type {\n",
       "        vertical-align: middle;\n",
       "    }\n",
       "\n",
       "    .dataframe tbody tr th {\n",
       "        vertical-align: top;\n",
       "    }\n",
       "\n",
       "    .dataframe thead th {\n",
       "        text-align: right;\n",
       "    }\n",
       "</style>\n",
       "<table border=\"1\" class=\"dataframe\">\n",
       "  <thead>\n",
       "    <tr style=\"text-align: right;\">\n",
       "      <th></th>\n",
       "      <th>LLM</th>\n",
       "      <th>Score</th>\n",
       "    </tr>\n",
       "  </thead>\n",
       "  <tbody>\n",
       "    <tr>\n",
       "      <th>0</th>\n",
       "      <td>GPT-4</td>\n",
       "      <td>89.8</td>\n",
       "    </tr>\n",
       "    <tr>\n",
       "      <th>4</th>\n",
       "      <td>Gemini 1.5 Pro</td>\n",
       "      <td>88.7</td>\n",
       "    </tr>\n",
       "    <tr>\n",
       "      <th>1</th>\n",
       "      <td>GPT-4o</td>\n",
       "      <td>88.4</td>\n",
       "    </tr>\n",
       "    <tr>\n",
       "      <th>2</th>\n",
       "      <td>GPT-4o Mini</td>\n",
       "      <td>86.9</td>\n",
       "    </tr>\n",
       "    <tr>\n",
       "      <th>3</th>\n",
       "      <td>Claude Sonnet 3.5</td>\n",
       "      <td>83.6</td>\n",
       "    </tr>\n",
       "    <tr>\n",
       "      <th>5</th>\n",
       "      <td>Gemini 1.5 Flash</td>\n",
       "      <td>83.2</td>\n",
       "    </tr>\n",
       "  </tbody>\n",
       "</table>\n",
       "</div>"
      ]
     },
     "execution_count": 12,
     "metadata": {},
     "output_type": "execute_result"
    }
   ],
   "execution_count": 12
  },
  {
   "metadata": {
    "ExecuteTime": {
     "end_time": "2024-10-17T10:53:20.427827Z",
     "start_time": "2024-10-17T10:53:20.345969Z"
    }
   },
   "cell_type": "code",
   "source": [
    "ax = sns.barplot(x='Score', y='LLM', data=df_scores)\n",
    "plt.title('Fallacy Identification Scores')\n",
    "plt.xlabel('Percent Score (%)')\n",
    "plt.ylabel('')\n",
    "\n",
    "# Add annotations inside the bars\n",
    "for i, v in enumerate(df_scores['Score']):\n",
    "    ax.text(v/2, i, f'{v:.1f}%',  ha='center', va='center', color='white')\n",
    "\n",
    "plt.show()\n"
   ],
   "id": "3147ce03b5391877",
   "outputs": [
    {
     "data": {
      "text/plain": [
       "<Figure size 640x480 with 1 Axes>"
      ],
      "image/png": "[encoded data removed]"
     },
     "metadata": {},
     "output_type": "display_data"
    }
   ],
   "execution_count": 13
  },
  {
   "metadata": {
    "ExecuteTime": {
     "end_time": "2024-10-17T10:48:40.416899Z",
     "start_time": "2024-10-17T10:48:40.414774Z"
    }
   },
   "cell_type": "code",
   "source": "",
   "id": "a06099e95354f371",
   "outputs": [],
   "execution_count": null
  }
 ],
 "metadata": {
  "kernelspec": {
   "display_name": "Python 3",
   "language": "python",
   "name": "python3"
  },
  "language_info": {
   "codemirror_mode": {
    "name": "ipython",
    "version": 2
   },
   "file_extension": ".py",
   "mimetype": "text/x-python",
   "name": "python",
   "nbconvert_exporter": "python",
   "pygments_lexer": "ipython2",
   "version": "2.7.6"
  }
 },
 "nbformat": 4,
 "nbformat_minor": 5
}
