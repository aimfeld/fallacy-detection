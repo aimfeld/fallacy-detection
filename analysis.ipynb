{
 "cells": [
  {
   "cell_type": "code",
   "id": "initial_id",
   "metadata": {
    "collapsed": true
   },
   "source": [
    "%load_ext autoreload\n",
    "%autoreload 2\n",
    "\n",
    "import numpy as np\n",
    "from src.experiment import get_fallacy_identification_df, save_fallacy_identification_df\n",
    "from src.analysis import score_fallacy_identification\n"
   ],
   "outputs": [],
   "execution_count": null
  },
  {
   "metadata": {},
   "cell_type": "code",
   "source": "df = get_fallacy_identification_df()",
   "id": "16028bbd2b7dd9d",
   "outputs": [],
   "execution_count": null
  },
  {
   "metadata": {},
   "cell_type": "code",
   "source": [
    "score_fallacy_identification(df)\n",
    "\n",
    "df.head()"
   ],
   "id": "3a32f9dedbd454ce",
   "outputs": [],
   "execution_count": null
  },
  {
   "metadata": {},
   "cell_type": "code",
   "source": "df['gpt_4o_mini_score'].value_counts()",
   "id": "1003a308f76932ac",
   "outputs": [],
   "execution_count": null
  },
  {
   "metadata": {},
   "cell_type": "code",
   "source": "df['gpt_4_score'].value_counts()",
   "id": "c562dfc77cf2b09a",
   "outputs": [],
   "execution_count": null
  },
  {
   "metadata": {},
   "cell_type": "code",
   "source": "df.info()",
   "id": "efdefbf43d9f0284",
   "outputs": [],
   "execution_count": null
  },
  {
   "metadata": {},
   "cell_type": "code",
   "source": [
    "score_columns = [col for col in df.columns if col.endswith('_score')]\n",
    "\n",
    "percent_scores = np.round(df[score_columns].mean() * 100, 1)\n",
    "percent_scores = percent_scores.reset_index()\n",
    "percent_scores.columns = ['Score Column', 'Percent Score']\n",
    "\n",
    "percent_scores"
   ],
   "id": "6bfd137dc8be929e",
   "outputs": [],
   "execution_count": null
  },
  {
   "metadata": {},
   "cell_type": "code",
   "source": [
    "import seaborn as sns\n",
    "import matplotlib.pyplot as plt\n",
    "\n",
    "sns.set_theme()\n",
    "\n",
    "sns.barplot(x='Score Column', y='Percent Score', data=percent_scores)\n",
    "plt.title('Percent Scores for Each Column')\n",
    "plt.ylabel('Percent Score (%)')\n",
    "plt.xlabel('Score Columns')\n",
    "plt.show()\n"
   ],
   "id": "3147ce03b5391877",
   "outputs": [],
   "execution_count": null
  },
  {
   "metadata": {},
   "cell_type": "code",
   "source": "",
   "id": "a06099e95354f371",
   "outputs": [],
   "execution_count": null
  }
 ],
 "metadata": {
  "kernelspec": {
   "display_name": "Python 3",
   "language": "python",
   "name": "python3"
  },
  "language_info": {
   "codemirror_mode": {
    "name": "ipython",
    "version": 2
   },
   "file_extension": ".py",
   "mimetype": "text/x-python",
   "name": "python",
   "nbconvert_exporter": "python",
   "pygments_lexer": "ipython2",
   "version": "2.7.6"
  }
 },
 "nbformat": 4,
 "nbformat_minor": 5
}
