{
 "cells": [
  {
   "cell_type": "code",
   "id": "initial_id",
   "metadata": {
    "collapsed": true,
    "ExecuteTime": {
     "end_time": "2024-10-28T11:29:08.841828Z",
     "start_time": "2024-10-28T11:29:08.766804Z"
    }
   },
   "source": [
    "%load_ext autoreload\n",
    "%autoreload 2\n",
    "\n",
    "from src.experiment import get_fallacy_df, save_fallacy_df, tuning_train_test_split, get_tuning_examples, save_tuning_examples, TuningSet\n",
    "from openai import OpenAI"
   ],
   "outputs": [
    {
     "name": "stdout",
     "output_type": "stream",
     "text": [
      "The autoreload extension is already loaded. To reload it, use:\n",
      "  %reload_ext autoreload\n"
     ]
    }
   ],
   "execution_count": 16
  },
  {
   "metadata": {},
   "cell_type": "markdown",
   "source": "# Fine-tuning",
   "id": "5da774fb396b93ef"
  },
  {
   "metadata": {
    "ExecuteTime": {
     "end_time": "2024-10-28T11:29:09.990721Z",
     "start_time": "2024-10-28T11:29:09.931585Z"
    }
   },
   "cell_type": "code",
   "source": [
    "e5_filename = 'data/fallacies_e5.csv'\n",
    "df_fallacies_e5 = get_fallacy_df(e5_filename, only_incorrect=True)\n",
    "\n",
    "df_fallacies_e5.head()"
   ],
   "id": "e1a1da85de0ffb3a",
   "outputs": [
    {
     "name": "stdout",
     "output_type": "stream",
     "text": [
      "[2024-10-28 12:29:09] Created new fallacy identification dataframe.\n"
     ]
    },
    {
     "data": {
      "text/plain": [
       "                                                step              entity  \\\n",
       "0  Since John asked Maria if she used the last of...               tepas   \n",
       "1  Since Alice asked if Bob knew what an 'ossia' ...               ossia   \n",
       "2  Since Alice claims that the Hausdorff contents...  hausdorff contents   \n",
       "3  Since Tom, a seasoned tugboater, said that ice...          tugboaters   \n",
       "4  Since John accuses Mary of being terrified of ...             beewolf   \n",
       "\n",
       "                 fallacy  label  category    subcategory  \n",
       "0  Argument from Silence      1  informal  insufficiency  \n",
       "1  Argument from Silence      1  informal  insufficiency  \n",
       "2  Argument from Silence      1  informal  insufficiency  \n",
       "3  Argument from Silence      1  informal  insufficiency  \n",
       "4  Argument from Silence      1  informal  insufficiency  "
      ],
      "text/html": [
       "<div>\n",
       "<style scoped>\n",
       "    .dataframe tbody tr th:only-of-type {\n",
       "        vertical-align: middle;\n",
       "    }\n",
       "\n",
       "    .dataframe tbody tr th {\n",
       "        vertical-align: top;\n",
       "    }\n",
       "\n",
       "    .dataframe thead th {\n",
       "        text-align: right;\n",
       "    }\n",
       "</style>\n",
       "<table border=\"1\" class=\"dataframe\">\n",
       "  <thead>\n",
       "    <tr style=\"text-align: right;\">\n",
       "      <th></th>\n",
       "      <th>step</th>\n",
       "      <th>entity</th>\n",
       "      <th>fallacy</th>\n",
       "      <th>label</th>\n",
       "      <th>category</th>\n",
       "      <th>subcategory</th>\n",
       "    </tr>\n",
       "  </thead>\n",
       "  <tbody>\n",
       "    <tr>\n",
       "      <th>0</th>\n",
       "      <td>Since John asked Maria if she used the last of...</td>\n",
       "      <td>tepas</td>\n",
       "      <td>Argument from Silence</td>\n",
       "      <td>1</td>\n",
       "      <td>informal</td>\n",
       "      <td>insufficiency</td>\n",
       "    </tr>\n",
       "    <tr>\n",
       "      <th>1</th>\n",
       "      <td>Since Alice asked if Bob knew what an 'ossia' ...</td>\n",
       "      <td>ossia</td>\n",
       "      <td>Argument from Silence</td>\n",
       "      <td>1</td>\n",
       "      <td>informal</td>\n",
       "      <td>insufficiency</td>\n",
       "    </tr>\n",
       "    <tr>\n",
       "      <th>2</th>\n",
       "      <td>Since Alice claims that the Hausdorff contents...</td>\n",
       "      <td>hausdorff contents</td>\n",
       "      <td>Argument from Silence</td>\n",
       "      <td>1</td>\n",
       "      <td>informal</td>\n",
       "      <td>insufficiency</td>\n",
       "    </tr>\n",
       "    <tr>\n",
       "      <th>3</th>\n",
       "      <td>Since Tom, a seasoned tugboater, said that ice...</td>\n",
       "      <td>tugboaters</td>\n",
       "      <td>Argument from Silence</td>\n",
       "      <td>1</td>\n",
       "      <td>informal</td>\n",
       "      <td>insufficiency</td>\n",
       "    </tr>\n",
       "    <tr>\n",
       "      <th>4</th>\n",
       "      <td>Since John accuses Mary of being terrified of ...</td>\n",
       "      <td>beewolf</td>\n",
       "      <td>Argument from Silence</td>\n",
       "      <td>1</td>\n",
       "      <td>informal</td>\n",
       "      <td>insufficiency</td>\n",
       "    </tr>\n",
       "  </tbody>\n",
       "</table>\n",
       "</div>"
      ]
     },
     "execution_count": 17,
     "metadata": {},
     "output_type": "execute_result"
    }
   ],
   "execution_count": 17
  },
  {
   "metadata": {
    "ExecuteTime": {
     "end_time": "2024-10-28T11:29:51.414804Z",
     "start_time": "2024-10-28T11:29:51.285731Z"
    }
   },
   "cell_type": "code",
   "source": [
    "tuning_train_test_split(df_fallacies_e5, n_train=4, n_validation=1)\n",
    "df_fallacies_e5['tuning'].value_counts()\n"
   ],
   "id": "f179fd003e30dfa7",
   "outputs": [
    {
     "data": {
      "text/plain": [
       "tuning\n",
       "test          1160\n",
       "train          928\n",
       "validation     232\n",
       "Name: count, dtype: int64"
      ]
     },
     "execution_count": 20,
     "metadata": {},
     "output_type": "execute_result"
    }
   ],
   "execution_count": 20
  },
  {
   "metadata": {
    "ExecuteTime": {
     "end_time": "2024-10-28T11:31:57.065824Z",
     "start_time": "2024-10-28T11:31:56.996771Z"
    }
   },
   "cell_type": "code",
   "source": [
    "train_examples = get_tuning_examples(df_fallacies_e5, TuningSet.TRAIN)\n",
    "validation_examples = get_tuning_examples(df_fallacies_e5, TuningSet.VALIDATION)\n",
    "\n",
    "save_tuning_examples(train_examples, 'data/tuning-train.jsonl')\n",
    "save_tuning_examples(validation_examples, 'data/tuning-validation.jsonl')"
   ],
   "id": "3de2cb9a2f0ba213",
   "outputs": [],
   "execution_count": 21
  },
  {
   "metadata": {},
   "cell_type": "code",
   "outputs": [],
   "execution_count": null,
   "source": [
    "client = OpenAI()\n",
    "\n",
    "client.fine_tuning.jobs.create(\n",
    "    training_file=\"data/tuning-train.jsonl\",\n",
    "    validation_file=\"data/tuning-validation.jsonl\",\n",
    "    model=\"gpt-4o-mini-2024-07-18\",\n",
    "    seed=42,\n",
    "    suffix=\"fallacy-detection-v1\"\n",
    ")"
   ],
   "id": "94f491dad2966108"
  }
 ],
 "metadata": {
  "kernelspec": {
   "display_name": "Python 3",
   "language": "python",
   "name": "python3"
  },
  "language_info": {
   "codemirror_mode": {
    "name": "ipython",
    "version": 2
   },
   "file_extension": ".py",
   "mimetype": "text/x-python",
   "name": "python",
   "nbconvert_exporter": "python",
   "pygments_lexer": "ipython2",
   "version": "2.7.6"
  }
 },
 "nbformat": 4,
 "nbformat_minor": 5
}
