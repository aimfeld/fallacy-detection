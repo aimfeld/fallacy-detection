{
 "cells": [
  {
   "cell_type": "code",
   "id": "initial_id",
   "metadata": {
    "collapsed": true,
    "ExecuteTime": {
     "end_time": "2024-10-28T11:48:59.455744Z",
     "start_time": "2024-10-28T11:48:59.438724Z"
    }
   },
   "source": [
    "%load_ext autoreload\n",
    "%autoreload 2\n",
    "\n",
    "import os\n",
    "from dotenv import load_dotenv\n",
    "from src.experiment import get_fallacy_df, save_fallacy_df, get_classification_prompt_template\n",
    "from src.tuning import tuning_train_test_split, get_tuning_examples, save_tuning_examples, TuningSet\n",
    "from openai import OpenAI\n",
    "\n",
    "# Load environment variables from .env file\n",
    "load_dotenv()"
   ],
   "outputs": [
    {
     "name": "stdout",
     "output_type": "stream",
     "text": [
      "The autoreload extension is already loaded. To reload it, use:\n",
      "  %reload_ext autoreload\n"
     ]
    },
    {
     "data": {
      "text/plain": [
       "True"
      ]
     },
     "execution_count": 5,
     "metadata": {},
     "output_type": "execute_result"
    }
   ],
   "execution_count": 5
  },
  {
   "metadata": {},
   "cell_type": "markdown",
   "source": "# Fine-tuning",
   "id": "5da774fb396b93ef"
  },
  {
   "metadata": {
    "ExecuteTime": {
     "end_time": "2024-10-28T11:48:28.806489Z",
     "start_time": "2024-10-28T11:48:28.637584Z"
    }
   },
   "cell_type": "code",
   "source": [
    "e5_filename = 'data/fallacies_e5.csv'\n",
    "df_fallacies_e5 = get_fallacy_df(e5_filename, only_incorrect=True)\n",
    "\n",
    "df_fallacies_e5.head()"
   ],
   "id": "e1a1da85de0ffb3a",
   "outputs": [
    {
     "name": "stdout",
     "output_type": "stream",
     "text": [
      "[2024-10-28 12:48:28] Created new fallacy identification dataframe.\n"
     ]
    },
    {
     "data": {
      "text/plain": [
       "                                                step              entity  \\\n",
       "0  Since John asked Maria if she used the last of...               tepas   \n",
       "1  Since Alice asked if Bob knew what an 'ossia' ...               ossia   \n",
       "2  Since Alice claims that the Hausdorff contents...  hausdorff contents   \n",
       "3  Since Tom, a seasoned tugboater, said that ice...          tugboaters   \n",
       "4  Since John accuses Mary of being terrified of ...             beewolf   \n",
       "\n",
       "                 fallacy  label  category    subcategory  \n",
       "0  Argument from Silence      1  informal  insufficiency  \n",
       "1  Argument from Silence      1  informal  insufficiency  \n",
       "2  Argument from Silence      1  informal  insufficiency  \n",
       "3  Argument from Silence      1  informal  insufficiency  \n",
       "4  Argument from Silence      1  informal  insufficiency  "
      ],
      "text/html": [
       "<div>\n",
       "<style scoped>\n",
       "    .dataframe tbody tr th:only-of-type {\n",
       "        vertical-align: middle;\n",
       "    }\n",
       "\n",
       "    .dataframe tbody tr th {\n",
       "        vertical-align: top;\n",
       "    }\n",
       "\n",
       "    .dataframe thead th {\n",
       "        text-align: right;\n",
       "    }\n",
       "</style>\n",
       "<table border=\"1\" class=\"dataframe\">\n",
       "  <thead>\n",
       "    <tr style=\"text-align: right;\">\n",
       "      <th></th>\n",
       "      <th>step</th>\n",
       "      <th>entity</th>\n",
       "      <th>fallacy</th>\n",
       "      <th>label</th>\n",
       "      <th>category</th>\n",
       "      <th>subcategory</th>\n",
       "    </tr>\n",
       "  </thead>\n",
       "  <tbody>\n",
       "    <tr>\n",
       "      <th>0</th>\n",
       "      <td>Since John asked Maria if she used the last of...</td>\n",
       "      <td>tepas</td>\n",
       "      <td>Argument from Silence</td>\n",
       "      <td>1</td>\n",
       "      <td>informal</td>\n",
       "      <td>insufficiency</td>\n",
       "    </tr>\n",
       "    <tr>\n",
       "      <th>1</th>\n",
       "      <td>Since Alice asked if Bob knew what an 'ossia' ...</td>\n",
       "      <td>ossia</td>\n",
       "      <td>Argument from Silence</td>\n",
       "      <td>1</td>\n",
       "      <td>informal</td>\n",
       "      <td>insufficiency</td>\n",
       "    </tr>\n",
       "    <tr>\n",
       "      <th>2</th>\n",
       "      <td>Since Alice claims that the Hausdorff contents...</td>\n",
       "      <td>hausdorff contents</td>\n",
       "      <td>Argument from Silence</td>\n",
       "      <td>1</td>\n",
       "      <td>informal</td>\n",
       "      <td>insufficiency</td>\n",
       "    </tr>\n",
       "    <tr>\n",
       "      <th>3</th>\n",
       "      <td>Since Tom, a seasoned tugboater, said that ice...</td>\n",
       "      <td>tugboaters</td>\n",
       "      <td>Argument from Silence</td>\n",
       "      <td>1</td>\n",
       "      <td>informal</td>\n",
       "      <td>insufficiency</td>\n",
       "    </tr>\n",
       "    <tr>\n",
       "      <th>4</th>\n",
       "      <td>Since John accuses Mary of being terrified of ...</td>\n",
       "      <td>beewolf</td>\n",
       "      <td>Argument from Silence</td>\n",
       "      <td>1</td>\n",
       "      <td>informal</td>\n",
       "      <td>insufficiency</td>\n",
       "    </tr>\n",
       "  </tbody>\n",
       "</table>\n",
       "</div>"
      ]
     },
     "execution_count": 2,
     "metadata": {},
     "output_type": "execute_result"
    }
   ],
   "execution_count": 2
  },
  {
   "metadata": {
    "ExecuteTime": {
     "end_time": "2024-10-28T11:48:28.936031Z",
     "start_time": "2024-10-28T11:48:28.915990Z"
    }
   },
   "cell_type": "code",
   "source": [
    "tuning_train_test_split(df_fallacies_e5, n_train=4, n_validation=1)\n",
    "df_fallacies_e5['tuning'].value_counts()\n"
   ],
   "id": "f179fd003e30dfa7",
   "outputs": [
    {
     "data": {
      "text/plain": [
       "tuning\n",
       "test          1160\n",
       "train          928\n",
       "validation     232\n",
       "Name: count, dtype: int64"
      ]
     },
     "execution_count": 3,
     "metadata": {},
     "output_type": "execute_result"
    }
   ],
   "execution_count": 3
  },
  {
   "metadata": {
    "ExecuteTime": {
     "end_time": "2024-10-28T11:48:30.193033Z",
     "start_time": "2024-10-28T11:48:30.131162Z"
    }
   },
   "cell_type": "code",
   "source": [
    "prompt_template = get_classification_prompt_template()\n",
    "train_examples = get_tuning_examples(df_fallacies_e5, prompt_template, TuningSet.TRAIN)\n",
    "validation_examples = get_tuning_examples(df_fallacies_e5, prompt_template, TuningSet.VALIDATION)\n",
    "\n",
    "save_tuning_examples(train_examples, 'data/tuning-train.jsonl')\n",
    "save_tuning_examples(validation_examples, 'data/tuning-validation.jsonl')"
   ],
   "id": "3de2cb9a2f0ba213",
   "outputs": [],
   "execution_count": 4
  },
  {
   "metadata": {
    "ExecuteTime": {
     "end_time": "2024-10-28T11:57:22.690534Z",
     "start_time": "2024-10-28T11:57:18.931493Z"
    }
   },
   "cell_type": "code",
   "source": [
    "client = OpenAI(api_key=os.getenv(\"OPENAI_API_KEY\"))\n",
    "\n",
    "# Upload the training and validation files to the OpenAI API\n",
    "train_file = client.files.create(file=open(\"data/tuning-train.jsonl\", \"rb\"), purpose=\"fine-tune\")\n",
    "validation_file = client.files.create(file=open(\"data/tuning-validation.jsonl\", \"rb\"), purpose=\"fine-tune\")"
   ],
   "id": "6f722578f2682198",
   "outputs": [],
   "execution_count": 8
  },
  {
   "metadata": {
    "ExecuteTime": {
     "end_time": "2024-10-28T13:14:50.402006Z",
     "start_time": "2024-10-28T13:14:50.385906Z"
    }
   },
   "cell_type": "code",
   "source": [
    "print('Train file ID:', train_file.id)\n",
    "print('Validation file ID:',validation_file.id)"
   ],
   "id": "522414fdd3c2e379",
   "outputs": [
    {
     "name": "stdout",
     "output_type": "stream",
     "text": [
      "Train file ID: file-7SBSFbEnOwrO5x7A31H1Xqmx\n",
      "Validation file ID: file-8Oz10aKtDTKculml3awjF1gz\n"
     ]
    }
   ],
   "execution_count": 13
  },
  {
   "metadata": {
    "ExecuteTime": {
     "end_time": "2024-10-28T13:10:16.372440Z",
     "start_time": "2024-10-28T13:10:15.442697Z"
    }
   },
   "cell_type": "code",
   "source": [
    "# Fine tune model\n",
    "# With n_train=4 and n_validation=1, we get 5,633,052 trained tokens and cost is $10.90\n",
    "client.fine_tuning.jobs.create(\n",
    "    training_file=train_file.id,\n",
    "    validation_file=validation_file.id,\n",
    "    model=\"gpt-4o-mini-2024-07-18\",\n",
    "    seed=42,\n",
    "    suffix=\"fallacy-detection-v1\"\n",
    ")"
   ],
   "id": "94f491dad2966108",
   "outputs": [
    {
     "data": {
      "text/plain": [
       "FineTuningJob(id='ftjob-sX7St7Bo2Ti5UznfUP0EF1Zu', created_at=1730121016, error=Error(code=None, message=None, param=None), fine_tuned_model=None, finished_at=None, hyperparameters=Hyperparameters(n_epochs='auto', batch_size='auto', learning_rate_multiplier='auto'), model='gpt-4o-mini-2024-07-18', object='fine_tuning.job', organization_id='org-k2KKJWldFPKvRIwPH9qZcydN', result_files=[], seed=42, status='validating_files', trained_tokens=None, training_file='file-7SBSFbEnOwrO5x7A31H1Xqmx', validation_file='file-8Oz10aKtDTKculml3awjF1gz', estimated_finish=None, integrations=[], user_provided_suffix='fallacy-detection-v1')"
      ]
     },
     "execution_count": 11,
     "metadata": {},
     "output_type": "execute_result"
    }
   ],
   "execution_count": 11
  },
  {
   "metadata": {
    "ExecuteTime": {
     "end_time": "2024-10-28T13:36:20.667563Z",
     "start_time": "2024-10-28T13:36:20.212767Z"
    }
   },
   "cell_type": "code",
   "source": "save_fallacy_df(df_fallacies_e5, 'data/fallacies_e5.csv')",
   "id": "423fec8f2d0b9bac",
   "outputs": [],
   "execution_count": 14
  },
  {
   "metadata": {},
   "cell_type": "code",
   "outputs": [],
   "execution_count": null,
   "source": "",
   "id": "6ba97641566c4f53"
  }
 ],
 "metadata": {
  "kernelspec": {
   "display_name": "Python 3",
   "language": "python",
   "name": "python3"
  },
  "language_info": {
   "codemirror_mode": {
    "name": "ipython",
    "version": 2
   },
   "file_extension": ".py",
   "mimetype": "text/x-python",
   "name": "python",
   "nbconvert_exporter": "python",
   "pygments_lexer": "ipython2",
   "version": "2.7.6"
  }
 },
 "nbformat": 4,
 "nbformat_minor": 5
}
